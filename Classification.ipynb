{
 "cells": [
  {
   "cell_type": "markdown",
   "metadata": {},
   "source": [
    "# Assignment 2 - Classification \n",
    "\n",
    "Deniz Jafari\n",
    "\n",
    "\n",
    "The purpose of this assignment is to train, validate, and tune multiple classifiers that can predict, given a set of observations about a person, which income bracket the person fall into."
   ]
  },
  {
   "cell_type": "code",
   "execution_count": 1,
   "metadata": {},
   "outputs": [
    {
     "name": "stderr",
     "output_type": "stream",
     "text": [
      "/Users/denizjafari/anaconda3/lib/python3.6/site-packages/sklearn/cross_validation.py:41: DeprecationWarning: This module was deprecated in version 0.18 in favor of the model_selection module into which all the refactored classes and functions are moved. Also note that the interface of the new CV iterators are different from that of this module. This module will be removed in 0.20.\n",
      "  \"This module will be removed in 0.20.\", DeprecationWarning)\n"
     ]
    }
   ],
   "source": [
    "# import needed modules \n",
    "import pandas as pd\n",
    "from pandas import DataFrame\n",
    "import string\n",
    "import numpy as np\n",
    "from numpy import mean  \n",
    "import matplotlib.pyplot as plt\n",
    "import seaborn as sns\n",
    "import scipy\n",
    "import time \n",
    "import scipy.stats as stats\n",
    "import operator\n",
    "from pandas.tools.plotting import scatter_matrix\n",
    "from sklearn.preprocessing import StandardScaler\n",
    "from sklearn.linear_model import LogisticRegression\n",
    "from sklearn.model_selection import train_test_split\n",
    "from sklearn.model_selection import KFold\n",
    "from sklearn.metrics import make_scorer, confusion_matrix\n",
    "from sklearn.model_selection import learning_curve\n",
    "from sklearn.feature_selection import mutual_info_classif\n",
    "from sklearn.linear_model import LogisticRegression\n",
    "from sklearn.metrics import make_scorer, accuracy_score\n",
    "from sklearn.ensemble import RandomForestClassifier\n",
    "from sklearn.model_selection import GridSearchCV\n",
    "from sklearn.model_selection import learning_curve\n",
    "from sklearn.model_selection import KFold\n",
    "from sklearn.neighbors import KNeighborsClassifier\n",
    "from sklearn import tree\n",
    "from sklearn import preprocessing\n",
    "\n",
    "#!brew install gcc@5\n",
    "#!pip install xgboost\n",
    "from xgboost import XGBClassifier\n",
    "from xgboost import plot_tree\n",
    "from xgboost import plot_importance\n",
    "\n",
    "import matplotlib.pyplot as plt\n",
    "import seaborn as sns\n"
   ]
  },
  {
   "cell_type": "markdown",
   "metadata": {},
   "source": [
    "### Reading data "
   ]
  },
  {
   "cell_type": "code",
   "execution_count": 2,
   "metadata": {
    "collapsed": true
   },
   "outputs": [],
   "source": [
    "# Reading the train and test data into dataframes\n",
    "trainDF = pd.read_csv('income-training.csv')\n",
    "testDF = pd.read_csv('income-testing.csv')"
   ]
  },
  {
   "cell_type": "markdown",
   "metadata": {},
   "source": [
    "General info of imported data"
   ]
  },
  {
   "cell_type": "markdown",
   "metadata": {},
   "source": [
    "##### Training data"
   ]
  },
  {
   "cell_type": "code",
   "execution_count": 3,
   "metadata": {},
   "outputs": [
    {
     "data": {
      "text/html": [
       "<div>\n",
       "<style scoped>\n",
       "    .dataframe tbody tr th:only-of-type {\n",
       "        vertical-align: middle;\n",
       "    }\n",
       "\n",
       "    .dataframe tbody tr th {\n",
       "        vertical-align: top;\n",
       "    }\n",
       "\n",
       "    .dataframe thead th {\n",
       "        text-align: right;\n",
       "    }\n",
       "</style>\n",
       "<table border=\"1\" class=\"dataframe\">\n",
       "  <thead>\n",
       "    <tr style=\"text-align: right;\">\n",
       "      <th></th>\n",
       "      <th>Age</th>\n",
       "      <th>WorkClass</th>\n",
       "      <th>FinalWeight</th>\n",
       "      <th>Education</th>\n",
       "      <th>EducationLvl</th>\n",
       "      <th>MaritalStatus</th>\n",
       "      <th>Occupation</th>\n",
       "      <th>Relationship</th>\n",
       "      <th>Race</th>\n",
       "      <th>Sex</th>\n",
       "      <th>CapitalGain</th>\n",
       "      <th>CapitalLoss</th>\n",
       "      <th>HoursPerWeek</th>\n",
       "      <th>NativeCountry</th>\n",
       "      <th>IncomeBracket</th>\n",
       "    </tr>\n",
       "  </thead>\n",
       "  <tbody>\n",
       "    <tr>\n",
       "      <th>0</th>\n",
       "      <td>42</td>\n",
       "      <td>State-gov</td>\n",
       "      <td>179151</td>\n",
       "      <td>Some-college</td>\n",
       "      <td>10</td>\n",
       "      <td>Married-civ-spouse</td>\n",
       "      <td>Farming-fishing</td>\n",
       "      <td>Husband</td>\n",
       "      <td>White</td>\n",
       "      <td>Male</td>\n",
       "      <td>0</td>\n",
       "      <td>0</td>\n",
       "      <td>40</td>\n",
       "      <td>United-States</td>\n",
       "      <td>&lt;50K</td>\n",
       "    </tr>\n",
       "    <tr>\n",
       "      <th>1</th>\n",
       "      <td>28</td>\n",
       "      <td>Private</td>\n",
       "      <td>68021</td>\n",
       "      <td>Some-college</td>\n",
       "      <td>10</td>\n",
       "      <td>Never-married</td>\n",
       "      <td>Other-service</td>\n",
       "      <td>Not-in-family</td>\n",
       "      <td>White</td>\n",
       "      <td>Female</td>\n",
       "      <td>0</td>\n",
       "      <td>0</td>\n",
       "      <td>30</td>\n",
       "      <td>United-States</td>\n",
       "      <td>&lt;50K</td>\n",
       "    </tr>\n",
       "    <tr>\n",
       "      <th>2</th>\n",
       "      <td>24</td>\n",
       "      <td>Private</td>\n",
       "      <td>233499</td>\n",
       "      <td>Some-college</td>\n",
       "      <td>10</td>\n",
       "      <td>Married-civ-spouse</td>\n",
       "      <td>Transport-moving</td>\n",
       "      <td>Husband</td>\n",
       "      <td>White</td>\n",
       "      <td>Male</td>\n",
       "      <td>0</td>\n",
       "      <td>0</td>\n",
       "      <td>40</td>\n",
       "      <td>United-States</td>\n",
       "      <td>50-100K</td>\n",
       "    </tr>\n",
       "    <tr>\n",
       "      <th>3</th>\n",
       "      <td>32</td>\n",
       "      <td>Self-emp-not-inc</td>\n",
       "      <td>168782</td>\n",
       "      <td>9th</td>\n",
       "      <td>5</td>\n",
       "      <td>Married-civ-spouse</td>\n",
       "      <td>Craft-repair</td>\n",
       "      <td>Husband</td>\n",
       "      <td>White</td>\n",
       "      <td>Male</td>\n",
       "      <td>0</td>\n",
       "      <td>0</td>\n",
       "      <td>32</td>\n",
       "      <td>United-States</td>\n",
       "      <td>&lt;50K</td>\n",
       "    </tr>\n",
       "    <tr>\n",
       "      <th>4</th>\n",
       "      <td>55</td>\n",
       "      <td>Self-emp-not-inc</td>\n",
       "      <td>105582</td>\n",
       "      <td>Masters</td>\n",
       "      <td>14</td>\n",
       "      <td>Married-civ-spouse</td>\n",
       "      <td>Sales</td>\n",
       "      <td>Husband</td>\n",
       "      <td>White</td>\n",
       "      <td>Male</td>\n",
       "      <td>2228</td>\n",
       "      <td>0</td>\n",
       "      <td>50</td>\n",
       "      <td>United-States</td>\n",
       "      <td>&lt;50K</td>\n",
       "    </tr>\n",
       "  </tbody>\n",
       "</table>\n",
       "</div>"
      ],
      "text/plain": [
       "   Age         WorkClass  FinalWeight     Education  EducationLvl  \\\n",
       "0   42         State-gov       179151  Some-college            10   \n",
       "1   28           Private        68021  Some-college            10   \n",
       "2   24           Private       233499  Some-college            10   \n",
       "3   32  Self-emp-not-inc       168782           9th             5   \n",
       "4   55  Self-emp-not-inc       105582       Masters            14   \n",
       "\n",
       "        MaritalStatus        Occupation   Relationship   Race     Sex  \\\n",
       "0  Married-civ-spouse   Farming-fishing        Husband  White    Male   \n",
       "1       Never-married     Other-service  Not-in-family  White  Female   \n",
       "2  Married-civ-spouse  Transport-moving        Husband  White    Male   \n",
       "3  Married-civ-spouse      Craft-repair        Husband  White    Male   \n",
       "4  Married-civ-spouse             Sales        Husband  White    Male   \n",
       "\n",
       "   CapitalGain  CapitalLoss  HoursPerWeek  NativeCountry IncomeBracket  \n",
       "0            0            0            40  United-States          <50K  \n",
       "1            0            0            30  United-States          <50K  \n",
       "2            0            0            40  United-States       50-100K  \n",
       "3            0            0            32  United-States          <50K  \n",
       "4         2228            0            50  United-States          <50K  "
      ]
     },
     "execution_count": 3,
     "metadata": {},
     "output_type": "execute_result"
    }
   ],
   "source": [
    "trainDF.head()"
   ]
  },
  {
   "cell_type": "code",
   "execution_count": 4,
   "metadata": {},
   "outputs": [
    {
     "name": "stdout",
     "output_type": "stream",
     "text": [
      "<class 'pandas.core.frame.DataFrame'>\n",
      "RangeIndex: 24421 entries, 0 to 24420\n",
      "Data columns (total 15 columns):\n",
      "Age              24421 non-null int64\n",
      "WorkClass        23037 non-null object\n",
      "FinalWeight      24421 non-null int64\n",
      "Education        24421 non-null object\n",
      "EducationLvl     24421 non-null int64\n",
      "MaritalStatus    24421 non-null object\n",
      "Occupation       23031 non-null object\n",
      "Relationship     24421 non-null object\n",
      "Race             24421 non-null object\n",
      "Sex              24421 non-null object\n",
      "CapitalGain      24421 non-null int64\n",
      "CapitalLoss      24421 non-null int64\n",
      "HoursPerWeek     24421 non-null int64\n",
      "NativeCountry    24026 non-null object\n",
      "IncomeBracket    24421 non-null object\n",
      "dtypes: int64(6), object(9)\n",
      "memory usage: 2.8+ MB\n"
     ]
    }
   ],
   "source": [
    "trainDF.info()"
   ]
  },
  {
   "cell_type": "code",
   "execution_count": 5,
   "metadata": {},
   "outputs": [
    {
     "data": {
      "text/html": [
       "<div>\n",
       "<style scoped>\n",
       "    .dataframe tbody tr th:only-of-type {\n",
       "        vertical-align: middle;\n",
       "    }\n",
       "\n",
       "    .dataframe tbody tr th {\n",
       "        vertical-align: top;\n",
       "    }\n",
       "\n",
       "    .dataframe thead th {\n",
       "        text-align: right;\n",
       "    }\n",
       "</style>\n",
       "<table border=\"1\" class=\"dataframe\">\n",
       "  <thead>\n",
       "    <tr style=\"text-align: right;\">\n",
       "      <th></th>\n",
       "      <th>Age</th>\n",
       "      <th>FinalWeight</th>\n",
       "      <th>EducationLvl</th>\n",
       "      <th>CapitalGain</th>\n",
       "      <th>CapitalLoss</th>\n",
       "      <th>HoursPerWeek</th>\n",
       "    </tr>\n",
       "  </thead>\n",
       "  <tbody>\n",
       "    <tr>\n",
       "      <th>count</th>\n",
       "      <td>24421.000000</td>\n",
       "      <td>2.442100e+04</td>\n",
       "      <td>24421.000000</td>\n",
       "      <td>24421.000000</td>\n",
       "      <td>24421.00000</td>\n",
       "      <td>24421.000000</td>\n",
       "    </tr>\n",
       "    <tr>\n",
       "      <th>mean</th>\n",
       "      <td>38.635273</td>\n",
       "      <td>1.908781e+05</td>\n",
       "      <td>10.100078</td>\n",
       "      <td>1073.734900</td>\n",
       "      <td>90.72581</td>\n",
       "      <td>40.495352</td>\n",
       "    </tr>\n",
       "    <tr>\n",
       "      <th>std</th>\n",
       "      <td>13.658678</td>\n",
       "      <td>1.066108e+05</td>\n",
       "      <td>2.579953</td>\n",
       "      <td>7372.250508</td>\n",
       "      <td>410.42682</td>\n",
       "      <td>12.363606</td>\n",
       "    </tr>\n",
       "    <tr>\n",
       "      <th>min</th>\n",
       "      <td>17.000000</td>\n",
       "      <td>1.349200e+04</td>\n",
       "      <td>1.000000</td>\n",
       "      <td>0.000000</td>\n",
       "      <td>0.00000</td>\n",
       "      <td>1.000000</td>\n",
       "    </tr>\n",
       "    <tr>\n",
       "      <th>25%</th>\n",
       "      <td>28.000000</td>\n",
       "      <td>1.182590e+05</td>\n",
       "      <td>9.000000</td>\n",
       "      <td>0.000000</td>\n",
       "      <td>0.00000</td>\n",
       "      <td>40.000000</td>\n",
       "    </tr>\n",
       "    <tr>\n",
       "      <th>50%</th>\n",
       "      <td>37.000000</td>\n",
       "      <td>1.783830e+05</td>\n",
       "      <td>10.000000</td>\n",
       "      <td>0.000000</td>\n",
       "      <td>0.00000</td>\n",
       "      <td>40.000000</td>\n",
       "    </tr>\n",
       "    <tr>\n",
       "      <th>75%</th>\n",
       "      <td>48.000000</td>\n",
       "      <td>2.394090e+05</td>\n",
       "      <td>13.000000</td>\n",
       "      <td>0.000000</td>\n",
       "      <td>0.00000</td>\n",
       "      <td>45.000000</td>\n",
       "    </tr>\n",
       "    <tr>\n",
       "      <th>max</th>\n",
       "      <td>90.000000</td>\n",
       "      <td>1.490400e+06</td>\n",
       "      <td>16.000000</td>\n",
       "      <td>99999.000000</td>\n",
       "      <td>4356.00000</td>\n",
       "      <td>99.000000</td>\n",
       "    </tr>\n",
       "  </tbody>\n",
       "</table>\n",
       "</div>"
      ],
      "text/plain": [
       "                Age   FinalWeight  EducationLvl   CapitalGain  CapitalLoss  \\\n",
       "count  24421.000000  2.442100e+04  24421.000000  24421.000000  24421.00000   \n",
       "mean      38.635273  1.908781e+05     10.100078   1073.734900     90.72581   \n",
       "std       13.658678  1.066108e+05      2.579953   7372.250508    410.42682   \n",
       "min       17.000000  1.349200e+04      1.000000      0.000000      0.00000   \n",
       "25%       28.000000  1.182590e+05      9.000000      0.000000      0.00000   \n",
       "50%       37.000000  1.783830e+05     10.000000      0.000000      0.00000   \n",
       "75%       48.000000  2.394090e+05     13.000000      0.000000      0.00000   \n",
       "max       90.000000  1.490400e+06     16.000000  99999.000000   4356.00000   \n",
       "\n",
       "       HoursPerWeek  \n",
       "count  24421.000000  \n",
       "mean      40.495352  \n",
       "std       12.363606  \n",
       "min        1.000000  \n",
       "25%       40.000000  \n",
       "50%       40.000000  \n",
       "75%       45.000000  \n",
       "max       99.000000  "
      ]
     },
     "execution_count": 5,
     "metadata": {},
     "output_type": "execute_result"
    }
   ],
   "source": [
    "trainDF.describe()"
   ]
  },
  {
   "cell_type": "markdown",
   "metadata": {},
   "source": [
    "##### Testing data"
   ]
  },
  {
   "cell_type": "code",
   "execution_count": 6,
   "metadata": {},
   "outputs": [
    {
     "data": {
      "text/html": [
       "<div>\n",
       "<style scoped>\n",
       "    .dataframe tbody tr th:only-of-type {\n",
       "        vertical-align: middle;\n",
       "    }\n",
       "\n",
       "    .dataframe tbody tr th {\n",
       "        vertical-align: top;\n",
       "    }\n",
       "\n",
       "    .dataframe thead th {\n",
       "        text-align: right;\n",
       "    }\n",
       "</style>\n",
       "<table border=\"1\" class=\"dataframe\">\n",
       "  <thead>\n",
       "    <tr style=\"text-align: right;\">\n",
       "      <th></th>\n",
       "      <th>Age</th>\n",
       "      <th>WorkClass</th>\n",
       "      <th>FinalWeight</th>\n",
       "      <th>Education</th>\n",
       "      <th>EducationLvl</th>\n",
       "      <th>MaritalStatus</th>\n",
       "      <th>Occupation</th>\n",
       "      <th>Relationship</th>\n",
       "      <th>Race</th>\n",
       "      <th>Sex</th>\n",
       "      <th>CapitalGain</th>\n",
       "      <th>CapitalLoss</th>\n",
       "      <th>HoursPerWeek</th>\n",
       "      <th>NativeCountry</th>\n",
       "      <th>IncomeBracket</th>\n",
       "    </tr>\n",
       "  </thead>\n",
       "  <tbody>\n",
       "    <tr>\n",
       "      <th>0</th>\n",
       "      <td>57</td>\n",
       "      <td>Self-emp-not-inc</td>\n",
       "      <td>152030</td>\n",
       "      <td>Some-college</td>\n",
       "      <td>10</td>\n",
       "      <td>Married-civ-spouse</td>\n",
       "      <td>Sales</td>\n",
       "      <td>Wife</td>\n",
       "      <td>White</td>\n",
       "      <td>Female</td>\n",
       "      <td>0</td>\n",
       "      <td>0</td>\n",
       "      <td>25</td>\n",
       "      <td>United-States</td>\n",
       "      <td>50-100K</td>\n",
       "    </tr>\n",
       "    <tr>\n",
       "      <th>1</th>\n",
       "      <td>35</td>\n",
       "      <td>Private</td>\n",
       "      <td>341643</td>\n",
       "      <td>Bachelors</td>\n",
       "      <td>13</td>\n",
       "      <td>Never-married</td>\n",
       "      <td>Other-service</td>\n",
       "      <td>Other-relative</td>\n",
       "      <td>White</td>\n",
       "      <td>Male</td>\n",
       "      <td>0</td>\n",
       "      <td>0</td>\n",
       "      <td>50</td>\n",
       "      <td>United-States</td>\n",
       "      <td>&lt;50K</td>\n",
       "    </tr>\n",
       "    <tr>\n",
       "      <th>2</th>\n",
       "      <td>26</td>\n",
       "      <td>Private</td>\n",
       "      <td>40915</td>\n",
       "      <td>Bachelors</td>\n",
       "      <td>13</td>\n",
       "      <td>Never-married</td>\n",
       "      <td>Other-service</td>\n",
       "      <td>Not-in-family</td>\n",
       "      <td>White</td>\n",
       "      <td>Female</td>\n",
       "      <td>0</td>\n",
       "      <td>0</td>\n",
       "      <td>25</td>\n",
       "      <td>United-States</td>\n",
       "      <td>&lt;50K</td>\n",
       "    </tr>\n",
       "    <tr>\n",
       "      <th>3</th>\n",
       "      <td>27</td>\n",
       "      <td>Federal-gov</td>\n",
       "      <td>257124</td>\n",
       "      <td>Bachelors</td>\n",
       "      <td>13</td>\n",
       "      <td>Never-married</td>\n",
       "      <td>Transport-moving</td>\n",
       "      <td>Other-relative</td>\n",
       "      <td>White</td>\n",
       "      <td>Male</td>\n",
       "      <td>0</td>\n",
       "      <td>0</td>\n",
       "      <td>35</td>\n",
       "      <td>United-States</td>\n",
       "      <td>&lt;50K</td>\n",
       "    </tr>\n",
       "    <tr>\n",
       "      <th>4</th>\n",
       "      <td>21</td>\n",
       "      <td>Private</td>\n",
       "      <td>256278</td>\n",
       "      <td>HS-grad</td>\n",
       "      <td>9</td>\n",
       "      <td>Never-married</td>\n",
       "      <td>Other-service</td>\n",
       "      <td>Other-relative</td>\n",
       "      <td>Other</td>\n",
       "      <td>Female</td>\n",
       "      <td>0</td>\n",
       "      <td>0</td>\n",
       "      <td>35</td>\n",
       "      <td>El-Salvador</td>\n",
       "      <td>&lt;50K</td>\n",
       "    </tr>\n",
       "  </tbody>\n",
       "</table>\n",
       "</div>"
      ],
      "text/plain": [
       "   Age         WorkClass  FinalWeight     Education  EducationLvl  \\\n",
       "0   57  Self-emp-not-inc       152030  Some-college            10   \n",
       "1   35           Private       341643     Bachelors            13   \n",
       "2   26           Private        40915     Bachelors            13   \n",
       "3   27       Federal-gov       257124     Bachelors            13   \n",
       "4   21           Private       256278       HS-grad             9   \n",
       "\n",
       "        MaritalStatus        Occupation    Relationship   Race     Sex  \\\n",
       "0  Married-civ-spouse             Sales            Wife  White  Female   \n",
       "1       Never-married     Other-service  Other-relative  White    Male   \n",
       "2       Never-married     Other-service   Not-in-family  White  Female   \n",
       "3       Never-married  Transport-moving  Other-relative  White    Male   \n",
       "4       Never-married     Other-service  Other-relative  Other  Female   \n",
       "\n",
       "   CapitalGain  CapitalLoss  HoursPerWeek  NativeCountry IncomeBracket  \n",
       "0            0            0            25  United-States       50-100K  \n",
       "1            0            0            50  United-States          <50K  \n",
       "2            0            0            25  United-States          <50K  \n",
       "3            0            0            35  United-States          <50K  \n",
       "4            0            0            35    El-Salvador          <50K  "
      ]
     },
     "execution_count": 6,
     "metadata": {},
     "output_type": "execute_result"
    }
   ],
   "source": [
    "testDF.head()"
   ]
  },
  {
   "cell_type": "code",
   "execution_count": 7,
   "metadata": {},
   "outputs": [
    {
     "name": "stdout",
     "output_type": "stream",
     "text": [
      "<class 'pandas.core.frame.DataFrame'>\n",
      "RangeIndex: 12211 entries, 0 to 12210\n",
      "Data columns (total 15 columns):\n",
      "Age              12211 non-null int64\n",
      "WorkClass        11523 non-null object\n",
      "FinalWeight      12211 non-null int64\n",
      "Education        12211 non-null object\n",
      "EducationLvl     12211 non-null int64\n",
      "MaritalStatus    12211 non-null object\n",
      "Occupation       11521 non-null object\n",
      "Relationship     12211 non-null object\n",
      "Race             12211 non-null object\n",
      "Sex              12211 non-null object\n",
      "CapitalGain      12211 non-null int64\n",
      "CapitalLoss      12211 non-null int64\n",
      "HoursPerWeek     12211 non-null int64\n",
      "NativeCountry    11986 non-null object\n",
      "IncomeBracket    12211 non-null object\n",
      "dtypes: int64(6), object(9)\n",
      "memory usage: 1.4+ MB\n"
     ]
    }
   ],
   "source": [
    "testDF.info()"
   ]
  },
  {
   "cell_type": "code",
   "execution_count": 8,
   "metadata": {},
   "outputs": [
    {
     "data": {
      "text/html": [
       "<div>\n",
       "<style scoped>\n",
       "    .dataframe tbody tr th:only-of-type {\n",
       "        vertical-align: middle;\n",
       "    }\n",
       "\n",
       "    .dataframe tbody tr th {\n",
       "        vertical-align: top;\n",
       "    }\n",
       "\n",
       "    .dataframe thead th {\n",
       "        text-align: right;\n",
       "    }\n",
       "</style>\n",
       "<table border=\"1\" class=\"dataframe\">\n",
       "  <thead>\n",
       "    <tr style=\"text-align: right;\">\n",
       "      <th></th>\n",
       "      <th>Age</th>\n",
       "      <th>FinalWeight</th>\n",
       "      <th>EducationLvl</th>\n",
       "      <th>CapitalGain</th>\n",
       "      <th>CapitalLoss</th>\n",
       "      <th>HoursPerWeek</th>\n",
       "    </tr>\n",
       "  </thead>\n",
       "  <tbody>\n",
       "    <tr>\n",
       "      <th>count</th>\n",
       "      <td>12211.000000</td>\n",
       "      <td>1.221100e+04</td>\n",
       "      <td>12211.000000</td>\n",
       "      <td>12211.000000</td>\n",
       "      <td>12211.000000</td>\n",
       "      <td>12211.000000</td>\n",
       "    </tr>\n",
       "    <tr>\n",
       "      <th>mean</th>\n",
       "      <td>38.856031</td>\n",
       "      <td>1.873615e+05</td>\n",
       "      <td>10.110228</td>\n",
       "      <td>1203.788961</td>\n",
       "      <td>88.256162</td>\n",
       "      <td>40.497994</td>\n",
       "    </tr>\n",
       "    <tr>\n",
       "      <th>std</th>\n",
       "      <td>13.705457</td>\n",
       "      <td>1.046019e+05</td>\n",
       "      <td>2.533795</td>\n",
       "      <td>8057.146114</td>\n",
       "      <td>404.810323</td>\n",
       "      <td>12.283195</td>\n",
       "    </tr>\n",
       "    <tr>\n",
       "      <th>min</th>\n",
       "      <td>17.000000</td>\n",
       "      <td>1.228500e+04</td>\n",
       "      <td>1.000000</td>\n",
       "      <td>0.000000</td>\n",
       "      <td>0.000000</td>\n",
       "      <td>1.000000</td>\n",
       "    </tr>\n",
       "    <tr>\n",
       "      <th>25%</th>\n",
       "      <td>28.000000</td>\n",
       "      <td>1.162960e+05</td>\n",
       "      <td>9.000000</td>\n",
       "      <td>0.000000</td>\n",
       "      <td>0.000000</td>\n",
       "      <td>40.000000</td>\n",
       "    </tr>\n",
       "    <tr>\n",
       "      <th>50%</th>\n",
       "      <td>37.000000</td>\n",
       "      <td>1.769000e+05</td>\n",
       "      <td>10.000000</td>\n",
       "      <td>0.000000</td>\n",
       "      <td>0.000000</td>\n",
       "      <td>40.000000</td>\n",
       "    </tr>\n",
       "    <tr>\n",
       "      <th>75%</th>\n",
       "      <td>48.000000</td>\n",
       "      <td>2.345370e+05</td>\n",
       "      <td>12.000000</td>\n",
       "      <td>0.000000</td>\n",
       "      <td>0.000000</td>\n",
       "      <td>45.000000</td>\n",
       "    </tr>\n",
       "    <tr>\n",
       "      <th>max</th>\n",
       "      <td>90.000000</td>\n",
       "      <td>1.484705e+06</td>\n",
       "      <td>16.000000</td>\n",
       "      <td>99999.000000</td>\n",
       "      <td>4356.000000</td>\n",
       "      <td>99.000000</td>\n",
       "    </tr>\n",
       "  </tbody>\n",
       "</table>\n",
       "</div>"
      ],
      "text/plain": [
       "                Age   FinalWeight  EducationLvl   CapitalGain   CapitalLoss  \\\n",
       "count  12211.000000  1.221100e+04  12211.000000  12211.000000  12211.000000   \n",
       "mean      38.856031  1.873615e+05     10.110228   1203.788961     88.256162   \n",
       "std       13.705457  1.046019e+05      2.533795   8057.146114    404.810323   \n",
       "min       17.000000  1.228500e+04      1.000000      0.000000      0.000000   \n",
       "25%       28.000000  1.162960e+05      9.000000      0.000000      0.000000   \n",
       "50%       37.000000  1.769000e+05     10.000000      0.000000      0.000000   \n",
       "75%       48.000000  2.345370e+05     12.000000      0.000000      0.000000   \n",
       "max       90.000000  1.484705e+06     16.000000  99999.000000   4356.000000   \n",
       "\n",
       "       HoursPerWeek  \n",
       "count  12211.000000  \n",
       "mean      40.497994  \n",
       "std       12.283195  \n",
       "min        1.000000  \n",
       "25%       40.000000  \n",
       "50%       40.000000  \n",
       "75%       45.000000  \n",
       "max       99.000000  "
      ]
     },
     "execution_count": 8,
     "metadata": {},
     "output_type": "execute_result"
    }
   ],
   "source": [
    "testDF.describe()"
   ]
  },
  {
   "cell_type": "markdown",
   "metadata": {},
   "source": [
    "# Data Cleaning, Exploratory Analysis, & Feature Selection \n",
    "\n",
    "The following sections are very interconnected and thus are done without any specific order\n",
    "\n",
    "#### Data Cleaning\n",
    "The goals of this section are:\n",
    "1. Handle missing values and justify the approach taken \n",
    "2. Answer the question: why the values are missing and how the above taken approach might impact the overal analysis \n",
    "3. Convert the categorical data to numerical via encoding method, justify the method used.\n",
    "\n",
    "#### Exploratory Analysis\n",
    "The goals of this section are:\n",
    "Present 3 trends, answer the question: how could these trends be used to help with the task of classifying income brackets?\n",
    "Visualize the order of feature importance, answer the question: which of the original attributes in the data are most relevant to an individual's income bracket?\n",
    "\n",
    "#### Feature Selection \n",
    "\n",
    "The purpose of this section is to:\n",
    "1. Create at least one additional feature that was not originally part of the dataset. Answer the question: How feature engineering is useful in ML? \n",
    "2. Select the features for ML analysis and justify the selection. Use feature selection algorithm. "
   ]
  },
  {
   "cell_type": "markdown",
   "metadata": {},
   "source": [
    "##### Removing Duplications \n",
    "The very firt task is to remove the duplicate data out of the dataset "
   ]
  },
  {
   "cell_type": "code",
   "execution_count": 9,
   "metadata": {
    "collapsed": true
   },
   "outputs": [],
   "source": [
    "trainDF.drop_duplicates(keep = 'first', inplace = True)\n",
    "testDF.drop_duplicates(keep = 'first', inplace = True)"
   ]
  },
  {
   "cell_type": "markdown",
   "metadata": {},
   "source": [
    "## Some Trends "
   ]
  },
  {
   "cell_type": "code",
   "execution_count": 10,
   "metadata": {},
   "outputs": [
    {
     "data": {
      "image/png": "[encoded data removed]",
      "text/plain": [
       "<matplotlib.figure.Figure at 0x1088004a8>"
      ]
     },
     "metadata": {},
     "output_type": "display_data"
    }
   ],
   "source": [
    "# First lets see how sample observations are distributed among three income bracket categories\n",
    "sns.countplot(x='IncomeBracket',data=trainDF)\n",
    "# set axes labels and title\n",
    "plt.ylabel('Number of People')\n",
    "plt.title('Total Number of People in each Income Bracket')\n",
    "plt.show()"
   ]
  },
  {
   "cell_type": "markdown",
   "metadata": {},
   "source": [
    "The above plot shows that most people in our dataset fall in the <50K income bracket. Also, as the income level goes up, the number of people/observations decrease.  \n",
    "This shows that the class with >100K is a very small class with much less examples and training data when implementing classifiers, thus, it is anticipated for this class to have the highest error. The middle class will also have higher error than the <50K class."
   ]
  },
  {
   "cell_type": "markdown",
   "metadata": {},
   "source": [
    "#### Gender vs Income Bracket"
   ]
  },
  {
   "cell_type": "code",
   "execution_count": 11,
   "metadata": {},
   "outputs": [
    {
     "data": {
      "image/png": "[encoded data removed]",
      "text/plain": [
       "<matplotlib.figure.Figure at 0x108bdb278>"
      ]
     },
     "metadata": {},
     "output_type": "display_data"
    }
   ],
   "source": [
    "sns.countplot(x='IncomeBracket', hue='Sex', data=trainDF)\n",
    "# set axes labels and title\n",
    "plt.ylabel('Number of People')\n",
    "plt.title('Total Number of People in each Income Bracket')\n",
    "plt.show()"
   ]
  },
  {
   "cell_type": "markdown",
   "metadata": {},
   "source": [
    "In the above graph, we can see that ratio of females in the <50k bracket is higher than the other two when compared to males. "
   ]
  },
  {
   "cell_type": "code",
   "execution_count": 12,
   "metadata": {},
   "outputs": [
    {
     "name": "stdout",
     "output_type": "stream",
     "text": [
      "count     24410\n",
      "unique        2\n",
      "top        Male\n",
      "freq      16352\n",
      "Name: Sex, dtype: object\n",
      "IncomeBracket  Sex   \n",
      "50-100K        Female      581\n",
      "               Male       3413\n",
      "<50K           Female     7172\n",
      "               Male      11250\n",
      ">100K          Female      305\n",
      "               Male       1689\n",
      "dtype: int64\n"
     ]
    }
   ],
   "source": [
    "# total number of males and females in each of the categories \n",
    "income_gender_bracket = trainDF.groupby(['IncomeBracket','Sex']).size()\n",
    "print (trainDF['Sex'].describe())\n",
    "print(income_gender_bracket)"
   ]
  },
  {
   "cell_type": "markdown",
   "metadata": {},
   "source": [
    "Here we see that total number of females in the dataset is actually much less than half of data on males. Less data on females may lead to higher error in lassifying females in higher income brackets than males. "
   ]
  },
  {
   "cell_type": "code",
   "execution_count": 13,
   "metadata": {},
   "outputs": [
    {
     "data": {
      "image/png": "[encoded data removed]",
      "text/plain": [
       "<matplotlib.figure.Figure at 0x1a0eaab828>"
      ]
     },
     "metadata": {},
     "output_type": "display_data"
    }
   ],
   "source": [
    "facet = sns.FacetGrid(trainDF, hue=\"Sex\",aspect=4)\n",
    "facet.map(sns.kdeplot,'HoursPerWeek',shade= True)\n",
    "facet.set(xlim=(0, trainDF['HoursPerWeek'].max()))\n",
    "facet.add_legend()\n",
    "plt.show()"
   ]
  },
  {
   "cell_type": "markdown",
   "metadata": {},
   "source": [
    "In the above graph we see than the peak of hours of work per week for both males and females is 40 hrs/week, which is the standard. However, there are more males compared to females that work for longer hours in a week and more females than males that work less than 40 hours per week. Below we will see whether there is any difference between the average number of hours of work per week between the two genders among different occupation categories. "
   ]
  },
  {
   "cell_type": "code",
   "execution_count": 14,
   "metadata": {
    "scrolled": true
   },
   "outputs": [
    {
     "data": {
      "image/png": "[encoded data removed]",
      "text/plain": [
       "<matplotlib.figure.Figure at 0x1088009b0>"
      ]
     },
     "metadata": {},
     "output_type": "display_data"
    }
   ],
   "source": [
    "g = sns.factorplot(x=\"Occupation\", hue='IncomeBracket', col=\"Sex\",\n",
    "                   data=trainDF, kind=\"count\",\n",
    "                    size=4, aspect=2, estimator=mean)\n",
    "g.set_xticklabels(rotation=90)\n",
    "plt.show()"
   ]
  },
  {
   "cell_type": "markdown",
   "metadata": {},
   "source": [
    "Factorplot with mean estimator takes into account that there are less data on females. The major differences between two genders are in specific occupation categories of Farming/fishing, Transportation, and Craft/Repairs, where males seem to be dominating. I expect these classes to be more important that the rest with this feature not playing an important role. Furhtermore, there is better dist. of data in the male category of Exec and Prof and these two would more likely play a role in determining income brackets. "
   ]
  },
  {
   "cell_type": "markdown",
   "metadata": {},
   "source": [
    "#### Age vs Income Bracket"
   ]
  },
  {
   "cell_type": "code",
   "execution_count": 15,
   "metadata": {},
   "outputs": [
    {
     "data": {
      "image/png": "[encoded data removed]",
      "text/plain": [
       "<matplotlib.figure.Figure at 0x1a0f0e50f0>"
      ]
     },
     "metadata": {},
     "output_type": "display_data"
    }
   ],
   "source": [
    "# Age dist. in 3 income levels\n",
    "ax, figure = plt.subplots(figsize=(10,7))\n",
    "sns.countplot(x='Age',hue='IncomeBracket',  data=trainDF)\n",
    "# set axes labels and title\n",
    "plt.xticks( rotation = 90)\n",
    "plt.ylabel('Number of People')\n",
    "plt.title('Distribution of Age vs Income Bracket')\n",
    "plt.show()"
   ]
  },
  {
   "cell_type": "code",
   "execution_count": 16,
   "metadata": {},
   "outputs": [
    {
     "data": {
      "image/png": "[encoded data removed]",
      "text/plain": [
       "<matplotlib.figure.Figure at 0x1a0f4b1f60>"
      ]
     },
     "metadata": {},
     "output_type": "display_data"
    }
   ],
   "source": [
    "sns.boxplot(x='IncomeBracket', y='Age', data=trainDF)\n",
    "plt.title('Distribution of Age vs Income Bracket')\n",
    "plt.show()"
   ]
  },
  {
   "cell_type": "markdown",
   "metadata": {},
   "source": [
    "From the above plots we see that the people in the lowest income bracket are much younger, and people in the highest income bracket are only slightly older than the middle braket on average. There is a clear differences beteen the classes and we expect this feature to play an important role in classification."
   ]
  },
  {
   "cell_type": "markdown",
   "metadata": {},
   "source": [
    "#### Capital Gain vs Income Bracket"
   ]
  },
  {
   "cell_type": "code",
   "execution_count": 17,
   "metadata": {},
   "outputs": [
    {
     "data": {
      "image/png": "[encoded data removed]",
      "text/plain": [
       "<matplotlib.figure.Figure at 0x1a0f00ea20>"
      ]
     },
     "metadata": {},
     "output_type": "display_data"
    }
   ],
   "source": [
    "facet = sns.FacetGrid(trainDF, hue=\"IncomeBracket\",aspect=4)\n",
    "facet.map(sns.kdeplot,'CapitalGain',shade= True)\n",
    "facet.set(xlim=(0, trainDF['CapitalGain'].max()))\n",
    "facet.add_legend()\n",
    "plt.ylabel('Number of People')\n",
    "plt.title('Capital Gain Distribution of each Income Bracket')\n",
    "plt.show()"
   ]
  },
  {
   "cell_type": "markdown",
   "metadata": {},
   "source": [
    "This plot shows the gain of income by selling assets. In this graph, we see clear differences among classes, and thus can say that this feature is going to be important in determining various classes. \n",
    "<50K class has less than 15k in capital gain \n",
    "while 50-100K has less than 35k in capital gain \n",
    "and 100< has the most capital gain "
   ]
  },
  {
   "cell_type": "markdown",
   "metadata": {},
   "source": [
    "#### Education Trends"
   ]
  },
  {
   "cell_type": "code",
   "execution_count": 18,
   "metadata": {},
   "outputs": [
    {
     "data": {
      "image/png": "[encoded data removed]",
      "text/plain": [
       "<matplotlib.figure.Figure at 0x1079c7400>"
      ]
     },
     "metadata": {},
     "output_type": "display_data"
    }
   ],
   "source": [
    "sns.countplot(x='Education',  data=trainDF)\n",
    "# set axes labels and title\n",
    "plt.xticks( rotation = 90)\n",
    "plt.ylabel('Number of People')\n",
    "plt.title('Overal education level')\n",
    "plt.show()"
   ]
  },
  {
   "cell_type": "markdown",
   "metadata": {},
   "source": [
    "Here we see that the majority of people fall into high school grad, followed by some collage education, and then having bachelor degree. "
   ]
  },
  {
   "cell_type": "code",
   "execution_count": 19,
   "metadata": {},
   "outputs": [
    {
     "data": {
      "image/png": "[encoded data removed]",
      "text/plain": [
       "<matplotlib.figure.Figure at 0x1a108e5d30>"
      ]
     },
     "metadata": {},
     "output_type": "display_data"
    }
   ],
   "source": [
    "ax, figure = plt.subplots(figsize=(10,7))\n",
    "sns.countplot(x='Education', hue='IncomeBracket', data=trainDF)\n",
    "# set axes labels and title\n",
    "plt.ylabel('Number of People')\n",
    "plt.xticks( rotation = 90)\n",
    "plt.title('Total Number of People vs their Education level in each Income Bracket')\n",
    "plt.show()"
   ]
  },
  {
   "cell_type": "markdown",
   "metadata": {},
   "source": [
    "Here shows that at the extreme of the education levels, doctorate vs elementary school level, majority will either be in >100k level (doctorate), or <50k (elementary level education). This feature is important for the highest and lowest education level for determining the correct category. "
   ]
  },
  {
   "cell_type": "markdown",
   "metadata": {},
   "source": [
    "## Handling missing data"
   ]
  },
  {
   "cell_type": "markdown",
   "metadata": {},
   "source": [
    "Let's we look at the dataset to see which columns have missing data in them. "
   ]
  },
  {
   "cell_type": "code",
   "execution_count": 20,
   "metadata": {},
   "outputs": [
    {
     "data": {
      "image/png": "[encoded data removed]",
      "text/plain": [
       "<matplotlib.figure.Figure at 0x1a108ea3c8>"
      ]
     },
     "metadata": {},
     "output_type": "display_data"
    }
   ],
   "source": [
    "fig, ax = plt.subplots(figsize=(12,8))\n",
    "sns.heatmap(trainDF.isnull(), cmap='coolwarm', yticklabels=False, cbar=False, ax=ax)\n",
    "plt.show()"
   ]
  },
  {
   "cell_type": "markdown",
   "metadata": {},
   "source": [
    "The above graph visualizes that there are three columns with missing data in them, namely, WorkClass, Occupation, and NativeCountry. Furhtermore, the heat map shows that the data entries with missing Occupation and WorkClass are very similar. In fact, below we see that there are only 6 entries that have Work class, but not the occupation, and the rest of the data miss both enteries.    \n",
    "Similarly the missing data for the test data is visualized and can be shown that same features are missing data."
   ]
  },
  {
   "cell_type": "code",
   "execution_count": 21,
   "metadata": {},
   "outputs": [
    {
     "data": {
      "image/png": "[encoded data removed]",
      "text/plain": [
       "<matplotlib.figure.Figure at 0x1a110fb240>"
      ]
     },
     "metadata": {},
     "output_type": "display_data"
    }
   ],
   "source": [
    "# here we see that the test data also is missing values for the same features \n",
    "fig, ax = plt.subplots(figsize=(12,8))\n",
    "sns.heatmap(trainDF.isnull(), cmap='coolwarm', yticklabels=False, cbar=False, ax=ax)\n",
    "plt.show()"
   ]
  },
  {
   "cell_type": "markdown",
   "metadata": {},
   "source": [
    "Some of the reasons these features are missing data might be because the Ocuupation/Work Class wasn't in the list and people just didn't fill in these categories when filling surveys. Some people might be from States and just didnt fill the native country or maybe their native country wasn't an option to choose from. \n",
    "\n",
    "Let's look at the rows of the data with missing information."
   ]
  },
  {
   "cell_type": "code",
   "execution_count": 22,
   "metadata": {},
   "outputs": [
    {
     "name": "stdout",
     "output_type": "stream",
     "text": [
      "Data enteries total count for missing Occupation entry\n",
      "Age              1389\n",
      "WorkClass           6\n",
      "FinalWeight      1389\n",
      "Education        1389\n",
      "EducationLvl     1389\n",
      "MaritalStatus    1389\n",
      "Occupation          0\n",
      "Relationship     1389\n",
      "Race             1389\n",
      "Sex              1389\n",
      "CapitalGain      1389\n",
      "CapitalLoss      1389\n",
      "HoursPerWeek     1389\n",
      "NativeCountry    1371\n",
      "IncomeBracket    1389\n",
      "dtype: int64\n",
      "Data enteries total count for missing WorkClass entry\n",
      "Age              1383\n",
      "WorkClass           0\n",
      "FinalWeight      1383\n",
      "Education        1383\n",
      "EducationLvl     1383\n",
      "MaritalStatus    1383\n",
      "Occupation          0\n",
      "Relationship     1383\n",
      "Race             1383\n",
      "Sex              1383\n",
      "CapitalGain      1383\n",
      "CapitalLoss      1383\n",
      "HoursPerWeek     1383\n",
      "NativeCountry    1365\n",
      "IncomeBracket    1383\n",
      "dtype: int64\n"
     ]
    }
   ],
   "source": [
    "print(\"Data enteries total count for missing Occupation entry\")\n",
    "print(trainDF.loc[trainDF.Occupation.isnull()].count())\n",
    "print(\"Data enteries total count for missing WorkClass entry\")\n",
    "print(trainDF.loc[trainDF.WorkClass.isnull()].count())"
   ]
  },
  {
   "cell_type": "code",
   "execution_count": 23,
   "metadata": {},
   "outputs": [
    {
     "data": {
      "text/html": [
       "<div>\n",
       "<style scoped>\n",
       "    .dataframe tbody tr th:only-of-type {\n",
       "        vertical-align: middle;\n",
       "    }\n",
       "\n",
       "    .dataframe tbody tr th {\n",
       "        vertical-align: top;\n",
       "    }\n",
       "\n",
       "    .dataframe thead th {\n",
       "        text-align: right;\n",
       "    }\n",
       "</style>\n",
       "<table border=\"1\" class=\"dataframe\">\n",
       "  <thead>\n",
       "    <tr style=\"text-align: right;\">\n",
       "      <th></th>\n",
       "      <th>Age</th>\n",
       "      <th>WorkClass</th>\n",
       "      <th>FinalWeight</th>\n",
       "      <th>Education</th>\n",
       "      <th>EducationLvl</th>\n",
       "      <th>MaritalStatus</th>\n",
       "      <th>Occupation</th>\n",
       "      <th>Relationship</th>\n",
       "      <th>Race</th>\n",
       "      <th>Sex</th>\n",
       "      <th>CapitalGain</th>\n",
       "      <th>CapitalLoss</th>\n",
       "      <th>HoursPerWeek</th>\n",
       "      <th>NativeCountry</th>\n",
       "      <th>IncomeBracket</th>\n",
       "    </tr>\n",
       "  </thead>\n",
       "  <tbody>\n",
       "    <tr>\n",
       "      <th>967</th>\n",
       "      <td>18</td>\n",
       "      <td>Never-worked</td>\n",
       "      <td>153663</td>\n",
       "      <td>Some-college</td>\n",
       "      <td>10</td>\n",
       "      <td>Never-married</td>\n",
       "      <td>NaN</td>\n",
       "      <td>Own-child</td>\n",
       "      <td>White</td>\n",
       "      <td>Male</td>\n",
       "      <td>0</td>\n",
       "      <td>0</td>\n",
       "      <td>4</td>\n",
       "      <td>United-States</td>\n",
       "      <td>&lt;50K</td>\n",
       "    </tr>\n",
       "    <tr>\n",
       "      <th>5364</th>\n",
       "      <td>18</td>\n",
       "      <td>Never-worked</td>\n",
       "      <td>206359</td>\n",
       "      <td>10th</td>\n",
       "      <td>6</td>\n",
       "      <td>Never-married</td>\n",
       "      <td>NaN</td>\n",
       "      <td>Own-child</td>\n",
       "      <td>White</td>\n",
       "      <td>Male</td>\n",
       "      <td>0</td>\n",
       "      <td>0</td>\n",
       "      <td>40</td>\n",
       "      <td>United-States</td>\n",
       "      <td>&lt;50K</td>\n",
       "    </tr>\n",
       "    <tr>\n",
       "      <th>12944</th>\n",
       "      <td>23</td>\n",
       "      <td>Never-worked</td>\n",
       "      <td>188535</td>\n",
       "      <td>7th-8th</td>\n",
       "      <td>4</td>\n",
       "      <td>Divorced</td>\n",
       "      <td>NaN</td>\n",
       "      <td>Not-in-family</td>\n",
       "      <td>White</td>\n",
       "      <td>Male</td>\n",
       "      <td>0</td>\n",
       "      <td>0</td>\n",
       "      <td>35</td>\n",
       "      <td>United-States</td>\n",
       "      <td>&lt;50K</td>\n",
       "    </tr>\n",
       "    <tr>\n",
       "      <th>13116</th>\n",
       "      <td>17</td>\n",
       "      <td>Never-worked</td>\n",
       "      <td>131593</td>\n",
       "      <td>11th</td>\n",
       "      <td>7</td>\n",
       "      <td>Never-married</td>\n",
       "      <td>NaN</td>\n",
       "      <td>Own-child</td>\n",
       "      <td>Black</td>\n",
       "      <td>Female</td>\n",
       "      <td>0</td>\n",
       "      <td>0</td>\n",
       "      <td>20</td>\n",
       "      <td>United-States</td>\n",
       "      <td>&lt;50K</td>\n",
       "    </tr>\n",
       "    <tr>\n",
       "      <th>21769</th>\n",
       "      <td>20</td>\n",
       "      <td>Never-worked</td>\n",
       "      <td>462294</td>\n",
       "      <td>Some-college</td>\n",
       "      <td>10</td>\n",
       "      <td>Never-married</td>\n",
       "      <td>NaN</td>\n",
       "      <td>Own-child</td>\n",
       "      <td>Black</td>\n",
       "      <td>Male</td>\n",
       "      <td>0</td>\n",
       "      <td>0</td>\n",
       "      <td>40</td>\n",
       "      <td>United-States</td>\n",
       "      <td>&lt;50K</td>\n",
       "    </tr>\n",
       "    <tr>\n",
       "      <th>22910</th>\n",
       "      <td>17</td>\n",
       "      <td>Never-worked</td>\n",
       "      <td>237272</td>\n",
       "      <td>10th</td>\n",
       "      <td>6</td>\n",
       "      <td>Never-married</td>\n",
       "      <td>NaN</td>\n",
       "      <td>Own-child</td>\n",
       "      <td>White</td>\n",
       "      <td>Male</td>\n",
       "      <td>0</td>\n",
       "      <td>0</td>\n",
       "      <td>30</td>\n",
       "      <td>United-States</td>\n",
       "      <td>&lt;50K</td>\n",
       "    </tr>\n",
       "  </tbody>\n",
       "</table>\n",
       "</div>"
      ],
      "text/plain": [
       "       Age     WorkClass  FinalWeight     Education  EducationLvl  \\\n",
       "967     18  Never-worked       153663  Some-college            10   \n",
       "5364    18  Never-worked       206359          10th             6   \n",
       "12944   23  Never-worked       188535       7th-8th             4   \n",
       "13116   17  Never-worked       131593          11th             7   \n",
       "21769   20  Never-worked       462294  Some-college            10   \n",
       "22910   17  Never-worked       237272          10th             6   \n",
       "\n",
       "       MaritalStatus Occupation   Relationship   Race     Sex  CapitalGain  \\\n",
       "967    Never-married        NaN      Own-child  White    Male            0   \n",
       "5364   Never-married        NaN      Own-child  White    Male            0   \n",
       "12944       Divorced        NaN  Not-in-family  White    Male            0   \n",
       "13116  Never-married        NaN      Own-child  Black  Female            0   \n",
       "21769  Never-married        NaN      Own-child  Black    Male            0   \n",
       "22910  Never-married        NaN      Own-child  White    Male            0   \n",
       "\n",
       "       CapitalLoss  HoursPerWeek  NativeCountry IncomeBracket  \n",
       "967              0             4  United-States          <50K  \n",
       "5364             0            40  United-States          <50K  \n",
       "12944            0            35  United-States          <50K  \n",
       "13116            0            20  United-States          <50K  \n",
       "21769            0            40  United-States          <50K  \n",
       "22910            0            30  United-States          <50K  "
      ]
     },
     "execution_count": 23,
     "metadata": {},
     "output_type": "execute_result"
    }
   ],
   "source": [
    "trainDF.loc[(trainDF.Occupation.isnull()) & (trainDF.WorkClass.notnull())]"
   ]
  },
  {
   "cell_type": "code",
   "execution_count": 24,
   "metadata": {},
   "outputs": [
    {
     "data": {
      "text/html": [
       "<div>\n",
       "<style scoped>\n",
       "    .dataframe tbody tr th:only-of-type {\n",
       "        vertical-align: middle;\n",
       "    }\n",
       "\n",
       "    .dataframe tbody tr th {\n",
       "        vertical-align: top;\n",
       "    }\n",
       "\n",
       "    .dataframe thead th {\n",
       "        text-align: right;\n",
       "    }\n",
       "</style>\n",
       "<table border=\"1\" class=\"dataframe\">\n",
       "  <thead>\n",
       "    <tr style=\"text-align: right;\">\n",
       "      <th></th>\n",
       "      <th>Age</th>\n",
       "      <th>WorkClass</th>\n",
       "      <th>FinalWeight</th>\n",
       "      <th>Education</th>\n",
       "      <th>EducationLvl</th>\n",
       "      <th>MaritalStatus</th>\n",
       "      <th>Occupation</th>\n",
       "      <th>Relationship</th>\n",
       "      <th>Race</th>\n",
       "      <th>Sex</th>\n",
       "      <th>CapitalGain</th>\n",
       "      <th>CapitalLoss</th>\n",
       "      <th>HoursPerWeek</th>\n",
       "      <th>NativeCountry</th>\n",
       "      <th>IncomeBracket</th>\n",
       "    </tr>\n",
       "  </thead>\n",
       "  <tbody>\n",
       "    <tr>\n",
       "      <th>6035</th>\n",
       "      <td>20</td>\n",
       "      <td>Never-worked</td>\n",
       "      <td>273905</td>\n",
       "      <td>HS-grad</td>\n",
       "      <td>9</td>\n",
       "      <td>Married-spouse-absent</td>\n",
       "      <td>NaN</td>\n",
       "      <td>Other-relative</td>\n",
       "      <td>White</td>\n",
       "      <td>Male</td>\n",
       "      <td>0</td>\n",
       "      <td>0</td>\n",
       "      <td>35</td>\n",
       "      <td>United-States</td>\n",
       "      <td>&lt;50K</td>\n",
       "    </tr>\n",
       "    <tr>\n",
       "      <th>11455</th>\n",
       "      <td>18</td>\n",
       "      <td>Never-worked</td>\n",
       "      <td>162908</td>\n",
       "      <td>11th</td>\n",
       "      <td>7</td>\n",
       "      <td>Never-married</td>\n",
       "      <td>NaN</td>\n",
       "      <td>Own-child</td>\n",
       "      <td>White</td>\n",
       "      <td>Male</td>\n",
       "      <td>0</td>\n",
       "      <td>0</td>\n",
       "      <td>35</td>\n",
       "      <td>United-States</td>\n",
       "      <td>&lt;50K</td>\n",
       "    </tr>\n",
       "  </tbody>\n",
       "</table>\n",
       "</div>"
      ],
      "text/plain": [
       "       Age     WorkClass  FinalWeight Education  EducationLvl  \\\n",
       "6035    20  Never-worked       273905   HS-grad             9   \n",
       "11455   18  Never-worked       162908      11th             7   \n",
       "\n",
       "               MaritalStatus Occupation    Relationship   Race   Sex  \\\n",
       "6035   Married-spouse-absent        NaN  Other-relative  White  Male   \n",
       "11455          Never-married        NaN       Own-child  White  Male   \n",
       "\n",
       "       CapitalGain  CapitalLoss  HoursPerWeek  NativeCountry IncomeBracket  \n",
       "6035             0            0            35  United-States          <50K  \n",
       "11455            0            0            35  United-States          <50K  "
      ]
     },
     "execution_count": 24,
     "metadata": {},
     "output_type": "execute_result"
    }
   ],
   "source": [
    "testDF.loc[(testDF.Occupation.isnull()) & (testDF.WorkClass.notnull())]"
   ]
  },
  {
   "cell_type": "markdown",
   "metadata": {},
   "source": [
    "From the rows that miss the occupation, but have the work class, we see that the reason these individuals are missing the occupation is the fact that they don't have any oocupation to enter. In fact, the occupation has no category of unemployed. Since these individuals never worked, we will add a category to the occupation and call it unemployed"
   ]
  },
  {
   "cell_type": "code",
   "execution_count": 25,
   "metadata": {
    "collapsed": true
   },
   "outputs": [],
   "source": [
    "trainDF.loc[(trainDF.Occupation.isnull()) & (trainDF.WorkClass.notnull()), 'Occupation'] = 'Unemployed'\n",
    "testDF.loc[(testDF.Occupation.isnull()) & (testDF.WorkClass.notnull()), 'Occupation'] = 'Unemployed'"
   ]
  },
  {
   "cell_type": "code",
   "execution_count": 26,
   "metadata": {},
   "outputs": [
    {
     "data": {
      "image/png": "[encoded data removed]",
      "text/plain": [
       "<matplotlib.figure.Figure at 0x1a108c1dd8>"
      ]
     },
     "metadata": {},
     "output_type": "display_data"
    }
   ],
   "source": [
    "# explore the Workclass of dataset \n",
    "sns.countplot(x='WorkClass', hue='IncomeBracket', data=trainDF)\n",
    "# set axes labels and title\n",
    "plt.ylabel('Number of People')\n",
    "plt.xticks( rotation = 90)\n",
    "plt.title('Total Number of People in each Work Class category and each Income Bracket')\n",
    "plt.show()"
   ]
  },
  {
   "cell_type": "markdown",
   "metadata": {},
   "source": [
    "In the above plot we see that the majority of data fall into the private category, thus, for the missing data the probability that they fall into private category is the highest and therefore I picked this category for the rest of missing data.  "
   ]
  },
  {
   "cell_type": "code",
   "execution_count": 27,
   "metadata": {},
   "outputs": [
    {
     "name": "stdout",
     "output_type": "stream",
     "text": [
      "<class 'pandas.core.frame.DataFrame'>\n",
      "Int64Index: 24410 entries, 0 to 24420\n",
      "Data columns (total 15 columns):\n",
      "Age              24410 non-null int64\n",
      "WorkClass        24410 non-null object\n",
      "FinalWeight      24410 non-null int64\n",
      "Education        24410 non-null object\n",
      "EducationLvl     24410 non-null int64\n",
      "MaritalStatus    24410 non-null object\n",
      "Occupation       23027 non-null object\n",
      "Relationship     24410 non-null object\n",
      "Race             24410 non-null object\n",
      "Sex              24410 non-null object\n",
      "CapitalGain      24410 non-null int64\n",
      "CapitalLoss      24410 non-null int64\n",
      "HoursPerWeek     24410 non-null int64\n",
      "NativeCountry    24015 non-null object\n",
      "IncomeBracket    24410 non-null object\n",
      "dtypes: int64(6), object(9)\n",
      "memory usage: 3.6+ MB\n"
     ]
    }
   ],
   "source": [
    "trainDF.loc[trainDF.WorkClass.isnull(), 'WorkClass'] = 'Private'\n",
    "testDF.loc[testDF.WorkClass.isnull(), 'WorkClass'] = 'Private'\n",
    "# verify \n",
    "trainDF.info()"
   ]
  },
  {
   "cell_type": "code",
   "execution_count": 28,
   "metadata": {},
   "outputs": [
    {
     "data": {
      "image/png": "[encoded data removed]",
      "text/plain": [
       "<matplotlib.figure.Figure at 0x1a1315aba8>"
      ]
     },
     "metadata": {},
     "output_type": "display_data"
    }
   ],
   "source": [
    "# lets see distribution of occupation\n",
    "ax, figure = plt.subplots(figsize=(10,7))\n",
    "sns.countplot(x='Occupation',hue='IncomeBracket',data=trainDF)\n",
    "# set axes labels and title\n",
    "plt.ylabel('Number of People')\n",
    "plt.title('Total Number of People in each Income Bracket for each Occupation')\n",
    "plt.xticks( rotation = 90)\n",
    "plt.show()"
   ]
  },
  {
   "cell_type": "markdown",
   "metadata": {},
   "source": [
    "Here we see that almost all occupations have all three income level except for Private house services and armed forces. All occupation categories have more peole within <50k income bracket than other two levels. The executive management and specialty professor categories have the highest number of people that fall within the two higher income brackets. Furthermore, the top three categories with the most number of people in them are Admin services, craft repair, and other services. \n",
    "Next we see whether there is any difference between gender and income bracket, rational being\n",
    "that as the occupation category becomes more specialty, the education level is higher. "
   ]
  },
  {
   "cell_type": "code",
   "execution_count": 29,
   "metadata": {},
   "outputs": [
    {
     "data": {
      "image/png": "[encoded data removed]",
      "text/plain": [
       "<matplotlib.figure.Figure at 0x1a130a4c88>"
      ]
     },
     "metadata": {},
     "output_type": "display_data"
    }
   ],
   "source": [
    "# lets explore the relationship between occupation and the education level\n",
    "plt.title('Distirbution of  Education Level in different Occupation Categories')\n",
    "plt.xticks(rotation=90)\n",
    "sns.boxplot(x=\"Occupation\", y=\"EducationLvl\", data=trainDF)\n",
    "plt.show()"
   ]
  },
  {
   "cell_type": "code",
   "execution_count": 30,
   "metadata": {},
   "outputs": [
    {
     "data": {
      "image/png": "[encoded data removed]",
      "text/plain": [
       "<matplotlib.figure.Figure at 0x1a0f406630>"
      ]
     },
     "metadata": {},
     "output_type": "display_data"
    }
   ],
   "source": [
    "sns.factorplot(x=\"Occupation\", y='EducationLvl', data=trainDF, estimator=mean)\n",
    "plt.title('Average Education Level of People in different Occupation Categories')\n",
    "plt.xticks(rotation=90)\n",
    "plt.show()"
   ]
  },
  {
   "cell_type": "markdown",
   "metadata": {},
   "source": [
    "From the above plots, we see that education level matters for some occupation categories. For example prof-specialty has the highest value for its mean in the education level, therefore, some of the missing data can be categories based on their education level as followed. As the number of managers is more than the tech support we place all the missing data in education level 12 and 11 into managerial position although both occupations have close means with mean education level of tech support being close to 11 as well. Since sales has alot of observations with mean education level 10, we replace the missing data with education level 10 to sales, replace missing of 9 to clerks, <7 to priv-services, and drop the rest. \n",
    "The goal here was to keep as many observations as possible, in order to have more data to train the models with. Although these classes might not be as significant of other classes in education level in determining income bracket, assigning numbers to them allows us to preserve the information. The implication of replacing one variable based on another one however, is that this may result in increasing the corrolation that exist between occupation and education level variables. "
   ]
  },
  {
   "cell_type": "code",
   "execution_count": 31,
   "metadata": {},
   "outputs": [
    {
     "name": "stdout",
     "output_type": "stream",
     "text": [
      "<class 'pandas.core.frame.DataFrame'>\n",
      "Int64Index: 24303 entries, 0 to 24420\n",
      "Data columns (total 15 columns):\n",
      "Age              24303 non-null int64\n",
      "WorkClass        24303 non-null object\n",
      "FinalWeight      24303 non-null int64\n",
      "Education        24303 non-null object\n",
      "EducationLvl     24303 non-null int64\n",
      "MaritalStatus    24303 non-null object\n",
      "Occupation       24303 non-null object\n",
      "Relationship     24303 non-null object\n",
      "Race             24303 non-null object\n",
      "Sex              24303 non-null object\n",
      "CapitalGain      24303 non-null int64\n",
      "CapitalLoss      24303 non-null int64\n",
      "HoursPerWeek     24303 non-null int64\n",
      "NativeCountry    23908 non-null object\n",
      "IncomeBracket    24303 non-null object\n",
      "dtypes: int64(6), object(9)\n",
      "memory usage: 3.0+ MB\n"
     ]
    }
   ],
   "source": [
    "trainDF.loc[(trainDF.EducationLvl >= 13)&(trainDF.Occupation.isnull()) , 'Occupation'] = 'Prof-specialty'\n",
    "trainDF.loc[(trainDF.EducationLvl == 12)&(trainDF.Occupation.isnull()) , 'Occupation'] = 'Exec-managerial'\n",
    "trainDF.loc[(trainDF.EducationLvl == 11)&(trainDF.Occupation.isnull()) , 'Occupation'] = 'Exec-managerial'\n",
    "trainDF.loc[(trainDF.EducationLvl == 10)&(trainDF.Occupation.isnull()) , 'Occupation'] = 'Sales'\n",
    "trainDF.loc[(trainDF.EducationLvl == 9)&(trainDF.Occupation.isnull()) , 'Occupation'] = 'Adm-clerical'\n",
    "trainDF.loc[(trainDF.EducationLvl < 7)&(trainDF.Occupation.isnull()) , 'Occupation'] = 'Priv-house-serv'\n",
    "\n",
    "testDF.loc[(testDF.EducationLvl >= 13)&(testDF.Occupation.isnull()) , 'Occupation'] = 'Prof-specialty'\n",
    "testDF.loc[(testDF.EducationLvl == 12)&(testDF.Occupation.isnull()) , 'Occupation'] = 'Exec-managerial'\n",
    "testDF.loc[(testDF.EducationLvl == 11)&(testDF.Occupation.isnull()) , 'Occupation'] = 'Exec-managerial'\n",
    "testDF.loc[(testDF.EducationLvl == 10)&(testDF.Occupation.isnull()) , 'Occupation'] = 'Sales'\n",
    "testDF.loc[(testDF.EducationLvl == 9)&(testDF.Occupation.isnull()) , 'Occupation'] = 'Adm-clerical'\n",
    "testDF.loc[(testDF.EducationLvl < 7)&(testDF.Occupation.isnull()) , 'Occupation'] = 'Priv-house-serv'\n",
    "#other occupation categories have close to one another means, are small subset and we can't\n",
    "# guess with any good accuracy thus we drop the data \n",
    "#set the missing values of the Occupation column \n",
    "trainDF.dropna(subset=['Occupation'],inplace = True) \n",
    "testDF.dropna(subset=['Occupation'],inplace = True) \n",
    "# verify by observing increase in the total count of Occupation  \n",
    "trainDF.info()"
   ]
  },
  {
   "cell_type": "code",
   "execution_count": 32,
   "metadata": {},
   "outputs": [
    {
     "name": "stdout",
     "output_type": "stream",
     "text": [
      "the top category is United-States, with total entries of 95.5%\n"
     ]
    },
    {
     "data": {
      "image/png": "[encoded data removed]",
      "text/plain": [
       "<matplotlib.figure.Figure at 0x1a0e570b38>"
      ]
     },
     "metadata": {},
     "output_type": "display_data"
    }
   ],
   "source": [
    "# Lets see what is the distribution of the native country in the dataset \n",
    "native= trainDF['NativeCountry'].describe()\n",
    "print('the top category is {}, with total entries of {}%'.format(native.top, round((native.freq/22898)*100,1)))\n",
    "ax, figure = plt.subplots(figsize=(10,7))\n",
    "sns.countplot(x='NativeCountry', data=trainDF)\n",
    "# set axes labels and title\n",
    "plt.ylabel('Number of People')\n",
    "plt.xticks( rotation = 90)\n",
    "plt.title('Total Number of People vs Their Native Country')\n",
    "plt.show()"
   ]
  },
  {
   "cell_type": "markdown",
   "metadata": {},
   "source": [
    "In the above plot we see that more than 90% of entries have USA as their Native country. Thus, we convert the missing data to defult of US."
   ]
  },
  {
   "cell_type": "code",
   "execution_count": 33,
   "metadata": {
    "collapsed": true
   },
   "outputs": [],
   "source": [
    "# Set the defult NativeCountry of the missing data to United-States \n",
    "trainDF.loc[trainDF.NativeCountry.isnull() , 'NativeCountry'] = 'United-States'\n",
    "testDF.loc[testDF.NativeCountry.isnull() , 'NativeCountry'] = 'United-States'"
   ]
  },
  {
   "cell_type": "markdown",
   "metadata": {},
   "source": [
    "Let's see if there is any difference between the information provided between the Education and EducationLvl columns. "
   ]
  },
  {
   "cell_type": "code",
   "execution_count": 34,
   "metadata": {},
   "outputs": [
    {
     "data": {
      "image/png": "[encoded data removed]",
      "text/plain": [
       "<matplotlib.figure.Figure at 0x1a0f0e5f60>"
      ]
     },
     "metadata": {},
     "output_type": "display_data"
    }
   ],
   "source": [
    "sns.stripplot(x=\"Education\", y=\"EducationLvl\", data=trainDF, jitter=True)\n",
    "plt.ylabel('Number of People')\n",
    "plt.xticks( rotation = 90)\n",
    "plt.title('Total Number of People vs their Education level in each Income Bracket')\n",
    "plt.show()"
   ]
  },
  {
   "cell_type": "markdown",
   "metadata": {},
   "source": [
    "From the above plot we see that the information provided in two columns are redundat, in fact the EducationLvl is just numerical values of the Education level of the individual. Since the algorithms only work with numerical values and not string entries, we can drop Education column and keep EducationLvl only with no loss of data. "
   ]
  },
  {
   "cell_type": "code",
   "execution_count": 35,
   "metadata": {
    "collapsed": true
   },
   "outputs": [],
   "source": [
    "trainDF = trainDF.drop(['Education'], axis=1)\n",
    "testDF = testDF.drop(['Education'], axis=1)"
   ]
  },
  {
   "cell_type": "markdown",
   "metadata": {},
   "source": [
    "### Converting the categorical data to numerical\n",
    "\n",
    "Categorical variables needs to be converted into numerical values since scikit-learn only takes numerical values as input in a numpy array. We can do this by encoding the categorical values with dummy variables. This method uses one-hot-coding such that each category for each feature becomes a new column. A category's column will get a value of 1 if the original feature belonged to that category. Only one of the categorical feature columns can have of 1. One-hot-coding is much better than just giving numerical values as it prevents ordinal interpretation by the algorithms used. The draw back is the number of columns increases and the data is stored as large sparse martix.  "
   ]
  },
  {
   "cell_type": "code",
   "execution_count": 36,
   "metadata": {},
   "outputs": [
    {
     "data": {
      "text/html": [
       "<div>\n",
       "<style scoped>\n",
       "    .dataframe tbody tr th:only-of-type {\n",
       "        vertical-align: middle;\n",
       "    }\n",
       "\n",
       "    .dataframe tbody tr th {\n",
       "        vertical-align: top;\n",
       "    }\n",
       "\n",
       "    .dataframe thead th {\n",
       "        text-align: right;\n",
       "    }\n",
       "</style>\n",
       "<table border=\"1\" class=\"dataframe\">\n",
       "  <thead>\n",
       "    <tr style=\"text-align: right;\">\n",
       "      <th></th>\n",
       "      <th>Age</th>\n",
       "      <th>FinalWeight</th>\n",
       "      <th>EducationLvl</th>\n",
       "      <th>CapitalGain</th>\n",
       "      <th>CapitalLoss</th>\n",
       "      <th>HoursPerWeek</th>\n",
       "      <th>IncomeBracket</th>\n",
       "      <th>WorkClass_Federal-gov</th>\n",
       "      <th>WorkClass_Local-gov</th>\n",
       "      <th>WorkClass_Private</th>\n",
       "      <th>...</th>\n",
       "      <th>NativeCountry_Portugal</th>\n",
       "      <th>NativeCountry_Puerto-Rico</th>\n",
       "      <th>NativeCountry_Scotland</th>\n",
       "      <th>NativeCountry_South</th>\n",
       "      <th>NativeCountry_Taiwan</th>\n",
       "      <th>NativeCountry_Thailand</th>\n",
       "      <th>NativeCountry_Trinadad&amp;Tobago</th>\n",
       "      <th>NativeCountry_United-States</th>\n",
       "      <th>NativeCountry_Vietnam</th>\n",
       "      <th>NativeCountry_Yugoslavia</th>\n",
       "    </tr>\n",
       "  </thead>\n",
       "  <tbody>\n",
       "    <tr>\n",
       "      <th>0</th>\n",
       "      <td>42</td>\n",
       "      <td>179151</td>\n",
       "      <td>10</td>\n",
       "      <td>0</td>\n",
       "      <td>0</td>\n",
       "      <td>40</td>\n",
       "      <td>&lt;50K</td>\n",
       "      <td>0</td>\n",
       "      <td>0</td>\n",
       "      <td>0</td>\n",
       "      <td>...</td>\n",
       "      <td>0</td>\n",
       "      <td>0</td>\n",
       "      <td>0</td>\n",
       "      <td>0</td>\n",
       "      <td>0</td>\n",
       "      <td>0</td>\n",
       "      <td>0</td>\n",
       "      <td>1</td>\n",
       "      <td>0</td>\n",
       "      <td>0</td>\n",
       "    </tr>\n",
       "    <tr>\n",
       "      <th>1</th>\n",
       "      <td>28</td>\n",
       "      <td>68021</td>\n",
       "      <td>10</td>\n",
       "      <td>0</td>\n",
       "      <td>0</td>\n",
       "      <td>30</td>\n",
       "      <td>&lt;50K</td>\n",
       "      <td>0</td>\n",
       "      <td>0</td>\n",
       "      <td>1</td>\n",
       "      <td>...</td>\n",
       "      <td>0</td>\n",
       "      <td>0</td>\n",
       "      <td>0</td>\n",
       "      <td>0</td>\n",
       "      <td>0</td>\n",
       "      <td>0</td>\n",
       "      <td>0</td>\n",
       "      <td>1</td>\n",
       "      <td>0</td>\n",
       "      <td>0</td>\n",
       "    </tr>\n",
       "    <tr>\n",
       "      <th>2</th>\n",
       "      <td>24</td>\n",
       "      <td>233499</td>\n",
       "      <td>10</td>\n",
       "      <td>0</td>\n",
       "      <td>0</td>\n",
       "      <td>40</td>\n",
       "      <td>50-100K</td>\n",
       "      <td>0</td>\n",
       "      <td>0</td>\n",
       "      <td>1</td>\n",
       "      <td>...</td>\n",
       "      <td>0</td>\n",
       "      <td>0</td>\n",
       "      <td>0</td>\n",
       "      <td>0</td>\n",
       "      <td>0</td>\n",
       "      <td>0</td>\n",
       "      <td>0</td>\n",
       "      <td>1</td>\n",
       "      <td>0</td>\n",
       "      <td>0</td>\n",
       "    </tr>\n",
       "    <tr>\n",
       "      <th>3</th>\n",
       "      <td>32</td>\n",
       "      <td>168782</td>\n",
       "      <td>5</td>\n",
       "      <td>0</td>\n",
       "      <td>0</td>\n",
       "      <td>32</td>\n",
       "      <td>&lt;50K</td>\n",
       "      <td>0</td>\n",
       "      <td>0</td>\n",
       "      <td>0</td>\n",
       "      <td>...</td>\n",
       "      <td>0</td>\n",
       "      <td>0</td>\n",
       "      <td>0</td>\n",
       "      <td>0</td>\n",
       "      <td>0</td>\n",
       "      <td>0</td>\n",
       "      <td>0</td>\n",
       "      <td>1</td>\n",
       "      <td>0</td>\n",
       "      <td>0</td>\n",
       "    </tr>\n",
       "    <tr>\n",
       "      <th>4</th>\n",
       "      <td>55</td>\n",
       "      <td>105582</td>\n",
       "      <td>14</td>\n",
       "      <td>2228</td>\n",
       "      <td>0</td>\n",
       "      <td>50</td>\n",
       "      <td>&lt;50K</td>\n",
       "      <td>0</td>\n",
       "      <td>0</td>\n",
       "      <td>0</td>\n",
       "      <td>...</td>\n",
       "      <td>0</td>\n",
       "      <td>0</td>\n",
       "      <td>0</td>\n",
       "      <td>0</td>\n",
       "      <td>0</td>\n",
       "      <td>0</td>\n",
       "      <td>0</td>\n",
       "      <td>1</td>\n",
       "      <td>0</td>\n",
       "      <td>0</td>\n",
       "    </tr>\n",
       "  </tbody>\n",
       "</table>\n",
       "<p>5 rows × 84 columns</p>\n",
       "</div>"
      ],
      "text/plain": [
       "   Age  FinalWeight  EducationLvl  CapitalGain  CapitalLoss  HoursPerWeek  \\\n",
       "0   42       179151            10            0            0            40   \n",
       "1   28        68021            10            0            0            30   \n",
       "2   24       233499            10            0            0            40   \n",
       "3   32       168782             5            0            0            32   \n",
       "4   55       105582            14         2228            0            50   \n",
       "\n",
       "  IncomeBracket  WorkClass_Federal-gov  WorkClass_Local-gov  \\\n",
       "0          <50K                      0                    0   \n",
       "1          <50K                      0                    0   \n",
       "2       50-100K                      0                    0   \n",
       "3          <50K                      0                    0   \n",
       "4          <50K                      0                    0   \n",
       "\n",
       "   WorkClass_Private            ...             NativeCountry_Portugal  \\\n",
       "0                  0            ...                                  0   \n",
       "1                  1            ...                                  0   \n",
       "2                  1            ...                                  0   \n",
       "3                  0            ...                                  0   \n",
       "4                  0            ...                                  0   \n",
       "\n",
       "   NativeCountry_Puerto-Rico  NativeCountry_Scotland  NativeCountry_South  \\\n",
       "0                          0                       0                    0   \n",
       "1                          0                       0                    0   \n",
       "2                          0                       0                    0   \n",
       "3                          0                       0                    0   \n",
       "4                          0                       0                    0   \n",
       "\n",
       "   NativeCountry_Taiwan  NativeCountry_Thailand  \\\n",
       "0                     0                       0   \n",
       "1                     0                       0   \n",
       "2                     0                       0   \n",
       "3                     0                       0   \n",
       "4                     0                       0   \n",
       "\n",
       "   NativeCountry_Trinadad&Tobago  NativeCountry_United-States  \\\n",
       "0                              0                            1   \n",
       "1                              0                            1   \n",
       "2                              0                            1   \n",
       "3                              0                            1   \n",
       "4                              0                            1   \n",
       "\n",
       "   NativeCountry_Vietnam  NativeCountry_Yugoslavia  \n",
       "0                      0                         0  \n",
       "1                      0                         0  \n",
       "2                      0                         0  \n",
       "3                      0                         0  \n",
       "4                      0                         0  \n",
       "\n",
       "[5 rows x 84 columns]"
      ]
     },
     "execution_count": 36,
     "metadata": {},
     "output_type": "execute_result"
    }
   ],
   "source": [
    "dummies_WorkClass_train = pd.get_dummies(trainDF['WorkClass'], prefix='WorkClass')\n",
    "dummies_MaritalStatus_train = pd.get_dummies(trainDF['MaritalStatus'], prefix='MaritalStatus')\n",
    "dummies_Occupation_train = pd.get_dummies(trainDF['Occupation'], prefix='Occupation')\n",
    "dummies_Relationship_train = pd.get_dummies(trainDF['Relationship'], prefix='Relationship')\n",
    "dummies_Race_train = pd.get_dummies(trainDF['Race'], prefix='Race')\n",
    "dummies_Sex_train = pd.get_dummies(trainDF['Sex'], prefix='Sex')\n",
    "dummies_NativeCountry_train = pd.get_dummies(trainDF['NativeCountry'], prefix='NativeCountry')\n",
    "\n",
    "# Add the new features to the dataframe via concating\n",
    "tempDF = pd.concat([trainDF, dummies_WorkClass_train, dummies_MaritalStatus_train,\n",
    "                    dummies_Occupation_train, dummies_Relationship_train,\n",
    "                   dummies_Race_train, dummies_Sex_train, dummies_NativeCountry_train], axis=1)\n",
    "\n",
    "# Drop the original categorical feature columns\n",
    "tempDF = tempDF.drop(['WorkClass','MaritalStatus','Occupation','Relationship',\n",
    "                     'Race', 'Sex', 'NativeCountry'],axis=1)\n",
    "\n",
    "# Drop one of each of the dummy variables because its value is implied\n",
    "X_train = tempDF.drop(['WorkClass_Never-worked','MaritalStatus_Never-married',\n",
    "                       'Occupation_Unemployed','Relationship_Other-relative',\n",
    "                        'Race_Other', 'Sex_Male', 'NativeCountry_Cuba'],axis=1)\n",
    "\n",
    "X_train.head()"
   ]
  },
  {
   "cell_type": "markdown",
   "metadata": {},
   "source": [
    "### Baseline performance\n",
    "\n",
    "Run one of the algorithms (Logistic Regression here) on all of the data without any feature engineering to ensure that the added features are actually working in improving the results. I chose logistic regression, a common classifier algorithm, for baseline performance "
   ]
  },
  {
   "cell_type": "markdown",
   "metadata": {},
   "source": [
    "##### Rescalling values \n",
    "Having features that have different scales can cause problems in some machine learning models since a lot of the models are based on the concept of Euclidean Distances. This means that features with greater scales would have a greater impact on the solution than those of smaller values. We can rectify this situation by scaling the independent values. This can be done with the scaler function."
   ]
  },
  {
   "cell_type": "code",
   "execution_count": 37,
   "metadata": {
    "collapsed": true
   },
   "outputs": [],
   "source": [
    "scaler = StandardScaler()\n",
    "X_all = X_train.drop(['IncomeBracket'], axis=1)\n",
    "X_all = scaler.fit_transform(X_all)\n",
    "\n",
    "dic = {'<50K': 0, '50-100K':1, '>100K':2}\n",
    "trainDF['IncomeBracket'] = trainDF['IncomeBracket'].map(dic)\n",
    "testDF['IncomeBracket'] = testDF['IncomeBracket'].map(dic)\n",
    "y = trainDF.IncomeBracket\n"
   ]
  },
  {
   "cell_type": "markdown",
   "metadata": {},
   "source": [
    "##### Evaluation: Cross Validation\n",
    "\n",
    "When building a model, we want one that can generalize (low bias), and have similar accuracies across testing sets (low variance). Cross-validation partitions the training set into various training and testing sets and we use these sets to train and test the model multiple times. KFold Cross Validation is a common method where the training set is split into k equal sizes. Then of the k subsamples, a single sample is used for testing, and the remaining k-1 samples are used for training. This process continues k times, and each time a different sample is used for testing. This results in each sample being tested once. At the end of this we get 10 accuracies for the model and, from this, we can get the average accuracy, and the standard deviation of the accuracy. The higher the average accuracy, the lower the bias. The lower the standard deviation, the lower the variance, thus, representing the true performance of the model on the training set."
   ]
  },
  {
   "cell_type": "code",
   "execution_count": 38,
   "metadata": {
    "collapsed": true
   },
   "outputs": [],
   "source": [
    "def kfold_model_run(model, X, y, K=10):\n",
    "    kfold = KFold(n_splits=K)\n",
    "    kfold.get_n_splits(X)\n",
    "    accuracy = np.zeros(K)\n",
    "    np_idx = 0\n",
    "    for train_idx, test_idx in kfold.split(X):\n",
    "        X_train, X_test = X[train_idx], X[test_idx]\n",
    "        y_train, y_test = y.values[train_idx], y.values[test_idx]\n",
    "\n",
    "        model.fit(X_train, y_train)\n",
    "\n",
    "        predictions = model.predict(X_test)\n",
    "\n",
    "        ACC = accuracy_score(y_test, predictions)\n",
    "        accuracy[np_idx] = ACC*100\n",
    "        np_idx += 1\n",
    "\n",
    "        print (\"Fold {}: Accuracy: {}\".format(np_idx, round(ACC,3)))   \n",
    "    #print(\"Model {}\".format(model))\n",
    "    print (\"Average Score: {}%({}%)\".format(round(np.mean(accuracy),3),round(np.std(accuracy),3)))\n",
    "    return model"
   ]
  },
  {
   "cell_type": "code",
   "execution_count": 39,
   "metadata": {},
   "outputs": [
    {
     "name": "stdout",
     "output_type": "stream",
     "text": [
      "Fold 1: Accuracy: 0.802\n",
      "Fold 2: Accuracy: 0.796\n",
      "Fold 3: Accuracy: 0.802\n",
      "Fold 4: Accuracy: 0.812\n",
      "Fold 5: Accuracy: 0.807\n",
      "Fold 6: Accuracy: 0.8\n",
      "Fold 7: Accuracy: 0.797\n",
      "Fold 8: Accuracy: 0.794\n",
      "Fold 9: Accuracy: 0.805\n",
      "Fold 10: Accuracy: 0.794\n",
      "Average Score: 80.085%(0.555%)\n",
      "Time taken to run this model is 29.461998224258423\n",
      "Total number of features are: 83\n"
     ]
    }
   ],
   "source": [
    "# run the logistic regression model with all  the features included\n",
    "start_time = time.time()\n",
    "lg = LogisticRegression()\n",
    "kfold_model_run(lg, X_all, y)\n",
    "elapsedtime = time.time() - start_time\n",
    "print('Time taken to run this model is {}'.format(elapsedtime))\n",
    "print('Total number of features are: {}'.format(X_all.shape[1]))"
   ]
  },
  {
   "cell_type": "markdown",
   "metadata": {},
   "source": [
    "The above about 80% is our baseline accuracy. \n",
    "When a feature has a lot of categories, a lot of new columns are generated. Not all columns however are significant, thus we can eliminate some of the columns. For example, more than 90% have USA as their native country, and the very small amount of data are scattered into large category of other countries. We eliminate many columns by only keeping the dummy variable that provides yes or no for USA as native country and eleminate the rest for the Native Country feature. "
   ]
  },
  {
   "cell_type": "markdown",
   "metadata": {},
   "source": [
    "### Feature Selection"
   ]
  },
  {
   "cell_type": "code",
   "execution_count": 40,
   "metadata": {
    "collapsed": true
   },
   "outputs": [],
   "source": [
    "trainDF.loc[trainDF['NativeCountry'] != 'United-States', 'NativeCountry'] = 'Other'\n",
    "testDF.loc[testDF['NativeCountry'] != 'United-States', 'NativeCountry'] = 'Other'"
   ]
  },
  {
   "cell_type": "markdown",
   "metadata": {},
   "source": [
    "By looking at the feature definitions, we see a lot of common information in Relationship and MaritalStatus. Since both are categorical variables, we perform chi-square test on them to see if the variables have any dependance in one another. "
   ]
  },
  {
   "cell_type": "code",
   "execution_count": 41,
   "metadata": {},
   "outputs": [
    {
     "name": "stdout",
     "output_type": "stream",
     "text": [
      "p-value is 0.0, and Chi-squared value is 28833.71605564572\n"
     ]
    }
   ],
   "source": [
    "relations = pd.crosstab(trainDF['Relationship'],trainDF['MaritalStatus'])\n",
    "chi, p, dof, expected = stats.chi2_contingency(relations)\n",
    "print('p-value is {}, and Chi-squared value is {}'.format(p,chi))"
   ]
  },
  {
   "cell_type": "markdown",
   "metadata": {},
   "source": [
    "from above we conclude that the association between the two features is strong. In order to reduce columns we convert the categories in MaritalStatus in either single, married, or married-spouse-absent. Since these two valiables share similar info and are dependant, we can select one for modeling and eliminate the other. This I did after I obtain my most important features from the gradient boost search of most important features. "
   ]
  },
  {
   "cell_type": "code",
   "execution_count": 42,
   "metadata": {},
   "outputs": [
    {
     "data": {
      "text/html": [
       "<div>\n",
       "<style scoped>\n",
       "    .dataframe tbody tr th:only-of-type {\n",
       "        vertical-align: middle;\n",
       "    }\n",
       "\n",
       "    .dataframe tbody tr th {\n",
       "        vertical-align: top;\n",
       "    }\n",
       "\n",
       "    .dataframe thead th {\n",
       "        text-align: right;\n",
       "    }\n",
       "</style>\n",
       "<table border=\"1\" class=\"dataframe\">\n",
       "  <thead>\n",
       "    <tr style=\"text-align: right;\">\n",
       "      <th></th>\n",
       "      <th></th>\n",
       "      <th>Age</th>\n",
       "      <th>WorkClass</th>\n",
       "      <th>FinalWeight</th>\n",
       "      <th>EducationLvl</th>\n",
       "      <th>Occupation</th>\n",
       "      <th>Race</th>\n",
       "      <th>Sex</th>\n",
       "      <th>CapitalGain</th>\n",
       "      <th>CapitalLoss</th>\n",
       "      <th>HoursPerWeek</th>\n",
       "      <th>NativeCountry</th>\n",
       "      <th>IncomeBracket</th>\n",
       "    </tr>\n",
       "    <tr>\n",
       "      <th>Relationship</th>\n",
       "      <th>MaritalStatus</th>\n",
       "      <th></th>\n",
       "      <th></th>\n",
       "      <th></th>\n",
       "      <th></th>\n",
       "      <th></th>\n",
       "      <th></th>\n",
       "      <th></th>\n",
       "      <th></th>\n",
       "      <th></th>\n",
       "      <th></th>\n",
       "      <th></th>\n",
       "      <th></th>\n",
       "    </tr>\n",
       "  </thead>\n",
       "  <tbody>\n",
       "    <tr>\n",
       "      <th>Husband</th>\n",
       "      <th>Married</th>\n",
       "      <td>9904</td>\n",
       "      <td>9904</td>\n",
       "      <td>9904</td>\n",
       "      <td>9904</td>\n",
       "      <td>9904</td>\n",
       "      <td>9904</td>\n",
       "      <td>9904</td>\n",
       "      <td>9904</td>\n",
       "      <td>9904</td>\n",
       "      <td>9904</td>\n",
       "      <td>9904</td>\n",
       "      <td>9904</td>\n",
       "    </tr>\n",
       "    <tr>\n",
       "      <th rowspan=\"3\" valign=\"top\">Not-in-family</th>\n",
       "      <th>Married</th>\n",
       "      <td>10</td>\n",
       "      <td>10</td>\n",
       "      <td>10</td>\n",
       "      <td>10</td>\n",
       "      <td>10</td>\n",
       "      <td>10</td>\n",
       "      <td>10</td>\n",
       "      <td>10</td>\n",
       "      <td>10</td>\n",
       "      <td>10</td>\n",
       "      <td>10</td>\n",
       "      <td>10</td>\n",
       "    </tr>\n",
       "    <tr>\n",
       "      <th>Married-spouse-absent</th>\n",
       "      <td>145</td>\n",
       "      <td>145</td>\n",
       "      <td>145</td>\n",
       "      <td>145</td>\n",
       "      <td>145</td>\n",
       "      <td>145</td>\n",
       "      <td>145</td>\n",
       "      <td>145</td>\n",
       "      <td>145</td>\n",
       "      <td>145</td>\n",
       "      <td>145</td>\n",
       "      <td>145</td>\n",
       "    </tr>\n",
       "    <tr>\n",
       "      <th>Single</th>\n",
       "      <td>6100</td>\n",
       "      <td>6100</td>\n",
       "      <td>6100</td>\n",
       "      <td>6100</td>\n",
       "      <td>6100</td>\n",
       "      <td>6100</td>\n",
       "      <td>6100</td>\n",
       "      <td>6100</td>\n",
       "      <td>6100</td>\n",
       "      <td>6100</td>\n",
       "      <td>6100</td>\n",
       "      <td>6100</td>\n",
       "    </tr>\n",
       "    <tr>\n",
       "      <th rowspan=\"3\" valign=\"top\">Other-relative</th>\n",
       "      <th>Married</th>\n",
       "      <td>101</td>\n",
       "      <td>101</td>\n",
       "      <td>101</td>\n",
       "      <td>101</td>\n",
       "      <td>101</td>\n",
       "      <td>101</td>\n",
       "      <td>101</td>\n",
       "      <td>101</td>\n",
       "      <td>101</td>\n",
       "      <td>101</td>\n",
       "      <td>101</td>\n",
       "      <td>101</td>\n",
       "    </tr>\n",
       "    <tr>\n",
       "      <th>Married-spouse-absent</th>\n",
       "      <td>27</td>\n",
       "      <td>27</td>\n",
       "      <td>27</td>\n",
       "      <td>27</td>\n",
       "      <td>27</td>\n",
       "      <td>27</td>\n",
       "      <td>27</td>\n",
       "      <td>27</td>\n",
       "      <td>27</td>\n",
       "      <td>27</td>\n",
       "      <td>27</td>\n",
       "      <td>27</td>\n",
       "    </tr>\n",
       "    <tr>\n",
       "      <th>Single</th>\n",
       "      <td>601</td>\n",
       "      <td>601</td>\n",
       "      <td>601</td>\n",
       "      <td>601</td>\n",
       "      <td>601</td>\n",
       "      <td>601</td>\n",
       "      <td>601</td>\n",
       "      <td>601</td>\n",
       "      <td>601</td>\n",
       "      <td>601</td>\n",
       "      <td>601</td>\n",
       "      <td>601</td>\n",
       "    </tr>\n",
       "    <tr>\n",
       "      <th rowspan=\"3\" valign=\"top\">Own-child</th>\n",
       "      <th>Married</th>\n",
       "      <td>81</td>\n",
       "      <td>81</td>\n",
       "      <td>81</td>\n",
       "      <td>81</td>\n",
       "      <td>81</td>\n",
       "      <td>81</td>\n",
       "      <td>81</td>\n",
       "      <td>81</td>\n",
       "      <td>81</td>\n",
       "      <td>81</td>\n",
       "      <td>81</td>\n",
       "      <td>81</td>\n",
       "    </tr>\n",
       "    <tr>\n",
       "      <th>Married-spouse-absent</th>\n",
       "      <td>32</td>\n",
       "      <td>32</td>\n",
       "      <td>32</td>\n",
       "      <td>32</td>\n",
       "      <td>32</td>\n",
       "      <td>32</td>\n",
       "      <td>32</td>\n",
       "      <td>32</td>\n",
       "      <td>32</td>\n",
       "      <td>32</td>\n",
       "      <td>32</td>\n",
       "      <td>32</td>\n",
       "    </tr>\n",
       "    <tr>\n",
       "      <th>Single</th>\n",
       "      <td>3586</td>\n",
       "      <td>3586</td>\n",
       "      <td>3586</td>\n",
       "      <td>3586</td>\n",
       "      <td>3586</td>\n",
       "      <td>3586</td>\n",
       "      <td>3586</td>\n",
       "      <td>3586</td>\n",
       "      <td>3586</td>\n",
       "      <td>3586</td>\n",
       "      <td>3586</td>\n",
       "      <td>3586</td>\n",
       "    </tr>\n",
       "    <tr>\n",
       "      <th rowspan=\"2\" valign=\"top\">Unmarried</th>\n",
       "      <th>Married-spouse-absent</th>\n",
       "      <td>99</td>\n",
       "      <td>99</td>\n",
       "      <td>99</td>\n",
       "      <td>99</td>\n",
       "      <td>99</td>\n",
       "      <td>99</td>\n",
       "      <td>99</td>\n",
       "      <td>99</td>\n",
       "      <td>99</td>\n",
       "      <td>99</td>\n",
       "      <td>99</td>\n",
       "      <td>99</td>\n",
       "    </tr>\n",
       "    <tr>\n",
       "      <th>Single</th>\n",
       "      <td>2438</td>\n",
       "      <td>2438</td>\n",
       "      <td>2438</td>\n",
       "      <td>2438</td>\n",
       "      <td>2438</td>\n",
       "      <td>2438</td>\n",
       "      <td>2438</td>\n",
       "      <td>2438</td>\n",
       "      <td>2438</td>\n",
       "      <td>2438</td>\n",
       "      <td>2438</td>\n",
       "      <td>2438</td>\n",
       "    </tr>\n",
       "    <tr>\n",
       "      <th>Wife</th>\n",
       "      <th>Married</th>\n",
       "      <td>1179</td>\n",
       "      <td>1179</td>\n",
       "      <td>1179</td>\n",
       "      <td>1179</td>\n",
       "      <td>1179</td>\n",
       "      <td>1179</td>\n",
       "      <td>1179</td>\n",
       "      <td>1179</td>\n",
       "      <td>1179</td>\n",
       "      <td>1179</td>\n",
       "      <td>1179</td>\n",
       "      <td>1179</td>\n",
       "    </tr>\n",
       "  </tbody>\n",
       "</table>\n",
       "</div>"
      ],
      "text/plain": [
       "                                       Age  WorkClass  FinalWeight  \\\n",
       "Relationship   MaritalStatus                                         \n",
       "Husband        Married                9904       9904         9904   \n",
       "Not-in-family  Married                  10         10           10   \n",
       "               Married-spouse-absent   145        145          145   \n",
       "               Single                 6100       6100         6100   \n",
       "Other-relative Married                 101        101          101   \n",
       "               Married-spouse-absent    27         27           27   \n",
       "               Single                  601        601          601   \n",
       "Own-child      Married                  81         81           81   \n",
       "               Married-spouse-absent    32         32           32   \n",
       "               Single                 3586       3586         3586   \n",
       "Unmarried      Married-spouse-absent    99         99           99   \n",
       "               Single                 2438       2438         2438   \n",
       "Wife           Married                1179       1179         1179   \n",
       "\n",
       "                                      EducationLvl  Occupation  Race   Sex  \\\n",
       "Relationship   MaritalStatus                                                 \n",
       "Husband        Married                        9904        9904  9904  9904   \n",
       "Not-in-family  Married                          10          10    10    10   \n",
       "               Married-spouse-absent           145         145   145   145   \n",
       "               Single                         6100        6100  6100  6100   \n",
       "Other-relative Married                         101         101   101   101   \n",
       "               Married-spouse-absent            27          27    27    27   \n",
       "               Single                          601         601   601   601   \n",
       "Own-child      Married                          81          81    81    81   \n",
       "               Married-spouse-absent            32          32    32    32   \n",
       "               Single                         3586        3586  3586  3586   \n",
       "Unmarried      Married-spouse-absent            99          99    99    99   \n",
       "               Single                         2438        2438  2438  2438   \n",
       "Wife           Married                        1179        1179  1179  1179   \n",
       "\n",
       "                                      CapitalGain  CapitalLoss  HoursPerWeek  \\\n",
       "Relationship   MaritalStatus                                                   \n",
       "Husband        Married                       9904         9904          9904   \n",
       "Not-in-family  Married                         10           10            10   \n",
       "               Married-spouse-absent          145          145           145   \n",
       "               Single                        6100         6100          6100   \n",
       "Other-relative Married                        101          101           101   \n",
       "               Married-spouse-absent           27           27            27   \n",
       "               Single                         601          601           601   \n",
       "Own-child      Married                         81           81            81   \n",
       "               Married-spouse-absent           32           32            32   \n",
       "               Single                        3586         3586          3586   \n",
       "Unmarried      Married-spouse-absent           99           99            99   \n",
       "               Single                        2438         2438          2438   \n",
       "Wife           Married                       1179         1179          1179   \n",
       "\n",
       "                                      NativeCountry  IncomeBracket  \n",
       "Relationship   MaritalStatus                                        \n",
       "Husband        Married                         9904           9904  \n",
       "Not-in-family  Married                           10             10  \n",
       "               Married-spouse-absent            145            145  \n",
       "               Single                          6100           6100  \n",
       "Other-relative Married                          101            101  \n",
       "               Married-spouse-absent             27             27  \n",
       "               Single                           601            601  \n",
       "Own-child      Married                           81             81  \n",
       "               Married-spouse-absent             32             32  \n",
       "               Single                          3586           3586  \n",
       "Unmarried      Married-spouse-absent             99             99  \n",
       "               Single                          2438           2438  \n",
       "Wife           Married                         1179           1179  "
      ]
     },
     "execution_count": 42,
     "metadata": {},
     "output_type": "execute_result"
    }
   ],
   "source": [
    "trainDF['MaritalStatus'].replace(['Married-civ-spouse', 'Married-AF-spouse'], 'Married',inplace= True)\n",
    "trainDF['MaritalStatus'].replace(['Divorced', 'Never-married','Separated','Widowed'], 'Single',inplace= True)\n",
    "\n",
    "testDF['MaritalStatus'].replace(['Married-civ-spouse', 'Married-AF-spouse'], 'Married',inplace= True)\n",
    "testDF['MaritalStatus'].replace(['Divorced', 'Never-married','Separated','Widowed'], 'Single',inplace= True)\n",
    "trainDF.groupby(['Relationship',\"MaritalStatus\"]).count()"
   ]
  },
  {
   "cell_type": "markdown",
   "metadata": {},
   "source": [
    "From above we see that relationship feature provides similar information, but not quiet the same. Since Husband and wife are guarantteed to be married, moving forward we convert husbad and wife into married, to eliminate a redundant column, as married with sex info would provide us with full info as wife/husband would. "
   ]
  },
  {
   "cell_type": "code",
   "execution_count": 43,
   "metadata": {
    "collapsed": true
   },
   "outputs": [],
   "source": [
    "trainDF['Relationship'].replace(['Husband', 'Wife'], 'Married',inplace= True)\n",
    "testDF['Relationship'].replace(['Husband', 'Wife'], 'Married',inplace= True)"
   ]
  },
  {
   "cell_type": "code",
   "execution_count": 44,
   "metadata": {},
   "outputs": [
    {
     "data": {
      "text/html": [
       "<div>\n",
       "<style scoped>\n",
       "    .dataframe tbody tr th:only-of-type {\n",
       "        vertical-align: middle;\n",
       "    }\n",
       "\n",
       "    .dataframe tbody tr th {\n",
       "        vertical-align: top;\n",
       "    }\n",
       "\n",
       "    .dataframe thead th {\n",
       "        text-align: right;\n",
       "    }\n",
       "</style>\n",
       "<table border=\"1\" class=\"dataframe\">\n",
       "  <thead>\n",
       "    <tr style=\"text-align: right;\">\n",
       "      <th></th>\n",
       "      <th>Age</th>\n",
       "      <th>FinalWeight</th>\n",
       "      <th>EducationLvl</th>\n",
       "      <th>CapitalGain</th>\n",
       "      <th>CapitalLoss</th>\n",
       "      <th>HoursPerWeek</th>\n",
       "      <th>IncomeBracket</th>\n",
       "    </tr>\n",
       "  </thead>\n",
       "  <tbody>\n",
       "    <tr>\n",
       "      <th>Age</th>\n",
       "      <td>1.000000</td>\n",
       "      <td>-0.084831</td>\n",
       "      <td>0.037711</td>\n",
       "      <td>0.075202</td>\n",
       "      <td>0.059309</td>\n",
       "      <td>0.067095</td>\n",
       "      <td>0.214910</td>\n",
       "    </tr>\n",
       "    <tr>\n",
       "      <th>FinalWeight</th>\n",
       "      <td>-0.084831</td>\n",
       "      <td>1.000000</td>\n",
       "      <td>-0.040556</td>\n",
       "      <td>-0.005117</td>\n",
       "      <td>0.002361</td>\n",
       "      <td>-0.015507</td>\n",
       "      <td>-0.008348</td>\n",
       "    </tr>\n",
       "    <tr>\n",
       "      <th>EducationLvl</th>\n",
       "      <td>0.037711</td>\n",
       "      <td>-0.040556</td>\n",
       "      <td>1.000000</td>\n",
       "      <td>0.131608</td>\n",
       "      <td>0.079196</td>\n",
       "      <td>0.141477</td>\n",
       "      <td>0.310816</td>\n",
       "    </tr>\n",
       "    <tr>\n",
       "      <th>CapitalGain</th>\n",
       "      <td>0.075202</td>\n",
       "      <td>-0.005117</td>\n",
       "      <td>0.131608</td>\n",
       "      <td>1.000000</td>\n",
       "      <td>-0.032298</td>\n",
       "      <td>0.089569</td>\n",
       "      <td>0.206374</td>\n",
       "    </tr>\n",
       "    <tr>\n",
       "      <th>CapitalLoss</th>\n",
       "      <td>0.059309</td>\n",
       "      <td>0.002361</td>\n",
       "      <td>0.079196</td>\n",
       "      <td>-0.032298</td>\n",
       "      <td>1.000000</td>\n",
       "      <td>0.055415</td>\n",
       "      <td>0.138774</td>\n",
       "    </tr>\n",
       "    <tr>\n",
       "      <th>HoursPerWeek</th>\n",
       "      <td>0.067095</td>\n",
       "      <td>-0.015507</td>\n",
       "      <td>0.141477</td>\n",
       "      <td>0.089569</td>\n",
       "      <td>0.055415</td>\n",
       "      <td>1.000000</td>\n",
       "      <td>0.215998</td>\n",
       "    </tr>\n",
       "    <tr>\n",
       "      <th>IncomeBracket</th>\n",
       "      <td>0.214910</td>\n",
       "      <td>-0.008348</td>\n",
       "      <td>0.310816</td>\n",
       "      <td>0.206374</td>\n",
       "      <td>0.138774</td>\n",
       "      <td>0.215998</td>\n",
       "      <td>1.000000</td>\n",
       "    </tr>\n",
       "  </tbody>\n",
       "</table>\n",
       "</div>"
      ],
      "text/plain": [
       "                    Age  FinalWeight  EducationLvl  CapitalGain  CapitalLoss  \\\n",
       "Age            1.000000    -0.084831      0.037711     0.075202     0.059309   \n",
       "FinalWeight   -0.084831     1.000000     -0.040556    -0.005117     0.002361   \n",
       "EducationLvl   0.037711    -0.040556      1.000000     0.131608     0.079196   \n",
       "CapitalGain    0.075202    -0.005117      0.131608     1.000000    -0.032298   \n",
       "CapitalLoss    0.059309     0.002361      0.079196    -0.032298     1.000000   \n",
       "HoursPerWeek   0.067095    -0.015507      0.141477     0.089569     0.055415   \n",
       "IncomeBracket  0.214910    -0.008348      0.310816     0.206374     0.138774   \n",
       "\n",
       "               HoursPerWeek  IncomeBracket  \n",
       "Age                0.067095       0.214910  \n",
       "FinalWeight       -0.015507      -0.008348  \n",
       "EducationLvl       0.141477       0.310816  \n",
       "CapitalGain        0.089569       0.206374  \n",
       "CapitalLoss        0.055415       0.138774  \n",
       "HoursPerWeek       1.000000       0.215998  \n",
       "IncomeBracket      0.215998       1.000000  "
      ]
     },
     "execution_count": 44,
     "metadata": {},
     "output_type": "execute_result"
    }
   ],
   "source": [
    "corr = trainDF.corr()\n",
    "corr"
   ]
  },
  {
   "cell_type": "code",
   "execution_count": 45,
   "metadata": {},
   "outputs": [
    {
     "data": {
      "image/png": "[encoded data removed]",
      "text/plain": [
       "<matplotlib.figure.Figure at 0x107a766a0>"
      ]
     },
     "metadata": {},
     "output_type": "display_data"
    }
   ],
   "source": [
    "mask = np.zeros_like(corr)\n",
    "mask[np.triu_indices_from(mask)] = True\n",
    "sns.heatmap(corr, mask=mask, vmax=.3, square=True)\n",
    "plt.show()"
   ]
  },
  {
   "cell_type": "markdown",
   "metadata": {},
   "source": [
    "From the above corrolation obtained among numerical features after maping the income bracket, we see that the highest corrolation is between the EducationLvl and the income bracket, followed by Age, HoursPerWeek, CapitalGain, and finally Capital Loss. Final Weight seems to have the least corollation to Income Bracket. Furthermore, only numerical features are displayed here, in order to be able to obtain the corrolation of categorical data to target value, we must first convert the variables to numerical using one-hot-coding, so there would be no ordinal assumption made by the algorithms while corrolation and later models are calculated/used. "
   ]
  },
  {
   "cell_type": "markdown",
   "metadata": {},
   "source": [
    "#### New Feature\n",
    "A new feature that is going to be added to the dataset called the Net capital gain, which equals to the individual's capital gain minus that individuals capita loss. This feature allows the information provided in two columns if the data set to be combined in one column. The minus value means the capital loss is higher than capital gain, while the positive value means that the gain of the individual was higher. This allows us to drop the two columns and only keep one column for processing, thus, improving all algorithms' data computation. \n",
    "\n",
    "In general feature engineering is useful for taking out the redundant information, thus improving model by making features more indep of one another and by making the computation faster. "
   ]
  },
  {
   "cell_type": "code",
   "execution_count": 46,
   "metadata": {
    "collapsed": true
   },
   "outputs": [],
   "source": [
    "def NetGain(Capital):\n",
    "    CapitalGain, CapitalLoss = Capital\n",
    "    Net = CapitalGain - CapitalLoss\n",
    "    return Net\n",
    "\n",
    "trainDF['NetCapital'] = trainDF[['CapitalGain', 'CapitalLoss']].apply(NetGain, axis=1)\n",
    "testDF['NetCapital'] = testDF[['CapitalGain', 'CapitalLoss']].apply(NetGain, axis=1)\n",
    "trainDF = trainDF.drop(['CapitalGain', 'CapitalLoss'], axis=1)\n",
    "testDF = testDF.drop(['CapitalGain', 'CapitalLoss'], axis=1)"
   ]
  },
  {
   "cell_type": "markdown",
   "metadata": {},
   "source": [
    "#### Converting categorical data to numerical after some feature selection "
   ]
  },
  {
   "cell_type": "code",
   "execution_count": 47,
   "metadata": {
    "collapsed": true
   },
   "outputs": [],
   "source": [
    "def makeDfDummy(DF):\n",
    "    tempDF = pd.get_dummies(DF) \n",
    "    # Drop one of each of the dummy variables because its value is implied\n",
    "    X = tempDF.drop(['WorkClass_Never-worked','Occupation_Unemployed',\n",
    "                     'Relationship_Other-relative','Race_Other', 'Sex_Male', \n",
    "                     'NativeCountry_Other','MaritalStatus_Married-spouse-absent'],axis=1)\n",
    "    return X\n",
    "\n",
    "X_train = makeDfDummy(trainDF)\n",
    "X_test = makeDfDummy(testDF)"
   ]
  },
  {
   "cell_type": "code",
   "execution_count": 48,
   "metadata": {},
   "outputs": [
    {
     "data": {
      "image/png": "[encoded data removed]",
      "text/plain": [
       "<matplotlib.figure.Figure at 0x1a10736da0>"
      ]
     },
     "metadata": {},
     "output_type": "display_data"
    }
   ],
   "source": [
    "ax, figure = plt.subplots(figsize=(10,10))\n",
    "corr = X_train.corr()\n",
    "mask = np.zeros_like(corr)\n",
    "mask[np.triu_indices_from(mask)] = True\n",
    "sns.heatmap(corr, mask=mask, vmax=.3, square=True)\n",
    "plt.show()"
   ]
  },
  {
   "cell_type": "markdown",
   "metadata": {},
   "source": [
    "In the above corrolation map we see that a lot of features do not have high corrolations to the income bracket, thus, we can eliminate a lot of features. In order to determine which features have the highest impact on the model, I used the important feature detector of the gradient boosting to determine the top features to keep. "
   ]
  },
  {
   "cell_type": "code",
   "execution_count": 49,
   "metadata": {
    "collapsed": true
   },
   "outputs": [],
   "source": [
    "# Seperate X and Y\n",
    "X_train = X_train.drop(['IncomeBracket'], axis=1)\n",
    "y_train = trainDF.IncomeBracket\n",
    "\n",
    "X_test = X_test.drop(['IncomeBracket'], axis=1)\n",
    "y_test = testDF.IncomeBracket"
   ]
  },
  {
   "cell_type": "code",
   "execution_count": 50,
   "metadata": {
    "collapsed": true
   },
   "outputs": [],
   "source": [
    "# store the name of the features in order \n",
    "feature_names = X_train.columns"
   ]
  },
  {
   "cell_type": "markdown",
   "metadata": {},
   "source": [
    "#### Feature Elimination"
   ]
  },
  {
   "cell_type": "code",
   "execution_count": 51,
   "metadata": {
    "collapsed": true
   },
   "outputs": [],
   "source": [
    "# scale features \n",
    "X_train_scale = scaler.fit_transform(X_train)"
   ]
  },
  {
   "cell_type": "code",
   "execution_count": 52,
   "metadata": {},
   "outputs": [
    {
     "name": "stdout",
     "output_type": "stream",
     "text": [
      "Fold 1: Accuracy: 0.814\n",
      "Fold 2: Accuracy: 0.818\n",
      "Fold 3: Accuracy: 0.809\n",
      "Average Score: 81.332%(0.37%)\n"
     ]
    },
    {
     "data": {
      "text/plain": [
       "XGBClassifier(base_score=0.5, colsample_bylevel=1, colsample_bytree=1,\n",
       "       gamma=0, learning_rate=0.1, max_delta_step=0, max_depth=3,\n",
       "       min_child_weight=1, missing=None, n_estimators=100, nthread=-1,\n",
       "       objective='multi:softprob', reg_alpha=0, reg_lambda=1,\n",
       "       scale_pos_weight=1, seed=0, silent=True, subsample=1)"
      ]
     },
     "execution_count": 52,
     "metadata": {},
     "output_type": "execute_result"
    }
   ],
   "source": [
    "# Initilize the model then fit with training data.\n",
    "g_boost = XGBClassifier()\n",
    "kfold_model_run(g_boost, X_train_scale, y_train, K=3)"
   ]
  },
  {
   "cell_type": "code",
   "execution_count": 53,
   "metadata": {},
   "outputs": [
    {
     "data": {
      "image/png": "[encoded data removed]",
      "text/plain": [
       "<matplotlib.figure.Figure at 0x1a0fb96710>"
      ]
     },
     "metadata": {},
     "output_type": "display_data"
    }
   ],
   "source": [
    "ax = plot_importance(g_boost)\n",
    "fig = ax.figure\n",
    "fig.set_size_inches(25, 10)\n",
    "plt.show()"
   ]
  },
  {
   "cell_type": "code",
   "execution_count": 70,
   "metadata": {},
   "outputs": [
    {
     "name": "stdout",
     "output_type": "stream",
     "text": [
      "Top features in order are:\n",
      "NetCapital\n",
      "Age\n",
      "EducationLvl\n",
      "HoursPerWeek\n",
      "FinalWeight\n",
      "MaritalStatus_Married\n",
      "Occupation_Farming-fishing\n",
      "Occupation_Other-service\n",
      "Occupation_Exec-managerial\n",
      "WorkClass_Self-emp-not-inc\n",
      "Race_Black\n",
      "Occupation_Protective-serv\n",
      "Relationship_Married\n",
      "Occupation_Machine-op-inspct\n",
      "Occupation_Craft-repair\n"
     ]
    }
   ],
   "source": [
    "feature = g_boost.feature_importances_\n",
    "Dic = dict(zip(feature_names,feature))\n",
    "print('Top features in order are:')\n",
    "\n",
    "print(feature_names[4])\n",
    "print(feature_names[0])\n",
    "print(feature_names[2])\n",
    "print(feature_names[3])\n",
    "print(feature_names[1])\n",
    "print(feature_names[12])\n",
    "print(feature_names[18])\n",
    "print(feature_names[21])\n",
    "print(feature_names[17])\n",
    "print(feature_names[9])\n",
    "print(feature_names[34])\n",
    "print(feature_names[24])\n",
    "print(feature_names[28])\n",
    "print(feature_names[20])\n",
    "print(feature_names[16])"
   ]
  },
  {
   "cell_type": "markdown",
   "metadata": {},
   "source": [
    "In the trend section, we saw clear relation between Capital gain and the target variable as well as age and education level with target variable. Let's see how the model performs with top 10, and then 15 features only. The effects of eliminating features is that model becomes less accurate, as in general adding more features tends to make models more accurate, however, since there are less features, less computation is needed, thus the model runs faster."
   ]
  },
  {
   "cell_type": "code",
   "execution_count": 55,
   "metadata": {},
   "outputs": [
    {
     "name": "stdout",
     "output_type": "stream",
     "text": [
      "Slecting top 10 features\n",
      "Fold 1: Accuracy: 0.794\n",
      "Fold 2: Accuracy: 0.795\n",
      "Fold 3: Accuracy: 0.795\n",
      "Fold 4: Accuracy: 0.809\n",
      "Fold 5: Accuracy: 0.8\n",
      "Fold 6: Accuracy: 0.795\n",
      "Fold 7: Accuracy: 0.787\n",
      "Fold 8: Accuracy: 0.789\n",
      "Fold 9: Accuracy: 0.799\n",
      "Fold 10: Accuracy: 0.789\n",
      "Average Score: 79.529%(0.613%)\n",
      "Time taken to run this model is 1.0726861953735352 sec\n",
      "Slecting top 15 features\n",
      "Fold 1: Accuracy: 0.794\n",
      "Fold 2: Accuracy: 0.794\n",
      "Fold 3: Accuracy: 0.796\n",
      "Fold 4: Accuracy: 0.813\n",
      "Fold 5: Accuracy: 0.8\n",
      "Fold 6: Accuracy: 0.797\n",
      "Fold 7: Accuracy: 0.79\n",
      "Fold 8: Accuracy: 0.791\n",
      "Fold 9: Accuracy: 0.801\n",
      "Fold 10: Accuracy: 0.789\n",
      "Average Score: 79.649%(0.654%)\n",
      "Time taken to run this model is 1.4587981700897217 sec\n"
     ]
    }
   ],
   "source": [
    "print('Slecting top 10 features')\n",
    "X_train_less = X_train[['NetCapital','Age','EducationLvl','HoursPerWeek','FinalWeight',\n",
    "                      'Relationship_Married','Occupation_Other-service',\n",
    "                      'Occupation_Farming-fishing','Occupation_Exec-managerial',\n",
    "                      'WorkClass_Self-emp-not-inc']]\n",
    "# scale features \n",
    "X_train_scale = scaler.fit_transform(X_train_less)\n",
    "\n",
    "start_time = time.time()\n",
    "kfold_model_run(lg, X_train_scale, y_train)\n",
    "elapsedtime = time.time() - start_time\n",
    "print('Time taken to run this model is {} sec'.format(elapsedtime))\n",
    "\n",
    "print('Slecting top 15 features')\n",
    "X_train_less = X_train[['NetCapital','Age','EducationLvl','HoursPerWeek','FinalWeight',\n",
    "                      'Relationship_Married','Occupation_Other-service',\n",
    "                      'Occupation_Farming-fishing','Occupation_Exec-managerial',\n",
    "                      'WorkClass_Self-emp-not-inc','WorkClass_Local-gov',\n",
    "                       'Occupation_Machine-op-inspct','Occupation_Handlers-cleaners',\n",
    "                      'Race_Black','Occupation_Protective-serv']]\n",
    "# scale features \n",
    "X_train_scale = scaler.fit_transform(X_train_less)\n",
    "\n",
    "start_time = time.time()\n",
    "kfold_model_run(lg, X_train_scale, y_train)\n",
    "elapsedtime = time.time() - start_time\n",
    "print('Time taken to run this model is {} sec'.format(elapsedtime))\n"
   ]
  },
  {
   "cell_type": "code",
   "execution_count": 56,
   "metadata": {},
   "outputs": [
    {
     "name": "stdout",
     "output_type": "stream",
     "text": [
      "Column WorkClass_Without-pay has small Fscore value, thus not important and is eliminated\n",
      "Column Occupation_Armed-Forces has small Fscore value, thus not important and is eliminated\n",
      "Column Occupation_Priv-house-serv has small Fscore value, thus not important and is eliminated\n",
      "Column Occupation_Transport-moving has small Fscore value, thus not important and is eliminated\n",
      "Column Race_Amer-Indian-Eskimo has small Fscore value, thus not important and is eliminated\n",
      "Fold 1: Accuracy: 0.792\n",
      "Fold 2: Accuracy: 0.796\n",
      "Fold 3: Accuracy: 0.798\n",
      "Fold 4: Accuracy: 0.809\n",
      "Fold 5: Accuracy: 0.799\n",
      "Fold 6: Accuracy: 0.799\n",
      "Fold 7: Accuracy: 0.795\n",
      "Fold 8: Accuracy: 0.789\n",
      "Fold 9: Accuracy: 0.802\n",
      "Fold 10: Accuracy: 0.79\n",
      "Average Score: 79.682%(0.562%)\n",
      "Time taken to run this model is 8.068639039993286 sec\n"
     ]
    }
   ],
   "source": [
    "X_train_less = X_train\n",
    "i = 0\n",
    "elim = []\n",
    "for i in range(len(feature)):\n",
    "    if feature[i] == 0.0:\n",
    "        elim.append(X_train_less.columns[i])\n",
    "        print('Column {} has small Fscore value, thus not important and is eliminated'.format(X_train_less.columns[i]))\n",
    "X_train_less = X_train_less.drop(elim, axis=1)\n",
    "\n",
    "X_train_scale = scaler.fit_transform(X_train_less)\n",
    "start_time = time.time()\n",
    "kfold_model_run(lg, X_train_scale, y_train)\n",
    "elapsedtime = time.time() - start_time\n",
    "print('Time taken to run this model is {} sec'.format(elapsedtime))\n"
   ]
  },
  {
   "cell_type": "markdown",
   "metadata": {},
   "source": [
    "In the above only the features with 0 Fscore were removed. The model accuracy has drop slightly, and variance has increased tiny bit, but the model runs more than two times faster."
   ]
  },
  {
   "cell_type": "code",
   "execution_count": 57,
   "metadata": {},
   "outputs": [
    {
     "name": "stdout",
     "output_type": "stream",
     "text": [
      "\n",
      "Column WorkClass_Federal-gov has small Fscore value, thus not important and is eliminated\n",
      "\n",
      "Column WorkClass_Private has small Fscore value, thus not important and is eliminated\n",
      "\n",
      "Column WorkClass_Self-emp-inc has small Fscore value, thus not important and is eliminated\n",
      "\n",
      "Column WorkClass_State-gov has small Fscore value, thus not important and is eliminated\n",
      "\n",
      "Column WorkClass_Without-pay has small Fscore value, thus not important and is eliminated\n",
      "\n",
      "Column Occupation_Adm-clerical has small Fscore value, thus not important and is eliminated\n",
      "\n",
      "Column Occupation_Armed-Forces has small Fscore value, thus not important and is eliminated\n",
      "\n",
      "Column Occupation_Priv-house-serv has small Fscore value, thus not important and is eliminated\n",
      "\n",
      "Column Occupation_Prof-specialty has small Fscore value, thus not important and is eliminated\n",
      "\n",
      "Column Occupation_Sales has small Fscore value, thus not important and is eliminated\n",
      "\n",
      "Column Occupation_Tech-support has small Fscore value, thus not important and is eliminated\n",
      "\n",
      "Column Occupation_Transport-moving has small Fscore value, thus not important and is eliminated\n",
      "\n",
      "Column Relationship_Not-in-family has small Fscore value, thus not important and is eliminated\n",
      "\n",
      "Column Race_Amer-Indian-Eskimo has small Fscore value, thus not important and is eliminated\n",
      "\n",
      "Column Race_Asian-Pac-Islander has small Fscore value, thus not important and is eliminated\n",
      "\n",
      "Column Race_White has small Fscore value, thus not important and is eliminated\n",
      "Fold 1: Accuracy: 0.796\n",
      "Fold 2: Accuracy: 0.794\n",
      "Fold 3: Accuracy: 0.795\n",
      "Fold 4: Accuracy: 0.812\n",
      "Fold 5: Accuracy: 0.799\n",
      "Fold 6: Accuracy: 0.797\n",
      "Fold 7: Accuracy: 0.792\n",
      "Fold 8: Accuracy: 0.79\n",
      "Fold 9: Accuracy: 0.799\n",
      "Fold 10: Accuracy: 0.788\n",
      "Average Score: 79.607%(0.62%)\n",
      "Time taken to run this model is 3.711369037628174 sec\n",
      "Total number of features kept are: 22\n"
     ]
    }
   ],
   "source": [
    "X_train_less = X_train\n",
    "\n",
    "i = 0\n",
    "elim = []\n",
    "for i in range(len(feature)):\n",
    "    if feature[i] <= 0.007:\n",
    "        elim.append(X_train_less.columns[i])\n",
    "        print()\n",
    "        print('Column {} has small Fscore value, thus not important and is eliminated'.format(X_train_less.columns[i]))\n",
    "X_train_less = X_train_less.drop(elim, axis=1)\n",
    "\n",
    "X_train_scale = scaler.fit_transform(X_train_less)\n",
    "start_time = time.time()\n",
    "kfold_model_run(lg, X_train_scale, y_train)\n",
    "elapsedtime = time.time() - start_time\n",
    "print('Time taken to run this model is {} sec'.format(elapsedtime))\n",
    "print('Total number of features kept are: {}'.format(X_train_less.columns.size))"
   ]
  },
  {
   "cell_type": "markdown",
   "metadata": {},
   "source": [
    "In the above results we see that the model accuracy is very close to the baseline, where all features were included, however only total of 22 features are used instead of 83, and the run time of the algorithm has improve by about 9 times. Accuracy has dropped by less than 0.5% while the variance has incereased by about 1%. Thus, I picked the top 22 important features resulted from gradient boosting algorithm to continue with model implementation. "
   ]
  },
  {
   "cell_type": "code",
   "execution_count": 58,
   "metadata": {
    "collapsed": true
   },
   "outputs": [],
   "source": [
    "# drop the same features in the test data\n",
    "X_train = X_train_less\n",
    "X_test = X_test.drop(elim, axis=1)"
   ]
  },
  {
   "cell_type": "markdown",
   "metadata": {},
   "source": [
    "# Model Implementation \n",
    "\n",
    "Implemented 5 different classification algorithms, namely: Logistic Regression, Decision Tree, Random Forest, KNN, and Gradient boosting to run on the training dataset using 10-fold cross-validation. \n",
    "\n",
    "Answer following questions: \n",
    "1. How does the model acuracy compare across the folds?\n",
    "2. Which model performs the best?\n",
    "3. Briefly explain each algorithm, pros and cons, and why it was chosen "
   ]
  },
  {
   "cell_type": "code",
   "execution_count": 59,
   "metadata": {
    "collapsed": true
   },
   "outputs": [],
   "source": [
    "# scale the features\n",
    "X_train = scaler.fit_transform(X_train)"
   ]
  },
  {
   "cell_type": "code",
   "execution_count": 60,
   "metadata": {},
   "outputs": [
    {
     "name": "stdout",
     "output_type": "stream",
     "text": [
      "Running 10-fold validation on Logistic Regression\n",
      "Fold 1: Accuracy: 0.796\n",
      "Fold 2: Accuracy: 0.794\n",
      "Fold 3: Accuracy: 0.795\n",
      "Fold 4: Accuracy: 0.812\n",
      "Fold 5: Accuracy: 0.799\n",
      "Fold 6: Accuracy: 0.797\n",
      "Fold 7: Accuracy: 0.792\n",
      "Fold 8: Accuracy: 0.79\n",
      "Fold 9: Accuracy: 0.799\n",
      "Fold 10: Accuracy: 0.788\n",
      "Average Score: 79.607%(0.62%)\n",
      "Running 10-fold validation on Decision Tree\n",
      "Fold 1: Accuracy: 0.784\n",
      "Fold 2: Accuracy: 0.789\n",
      "Fold 3: Accuracy: 0.782\n",
      "Fold 4: Accuracy: 0.798\n",
      "Fold 5: Accuracy: 0.793\n",
      "Fold 6: Accuracy: 0.793\n",
      "Fold 7: Accuracy: 0.784\n",
      "Fold 8: Accuracy: 0.781\n",
      "Fold 9: Accuracy: 0.791\n",
      "Fold 10: Accuracy: 0.783\n",
      "Average Score: 78.78%(0.546%)\n",
      "Running 10-fold validation on Random Forest\n",
      "Fold 1: Accuracy: 0.78\n",
      "Fold 2: Accuracy: 0.791\n",
      "Fold 3: Accuracy: 0.788\n",
      "Fold 4: Accuracy: 0.79\n",
      "Fold 5: Accuracy: 0.8\n",
      "Fold 6: Accuracy: 0.788\n",
      "Fold 7: Accuracy: 0.79\n",
      "Fold 8: Accuracy: 0.788\n",
      "Fold 9: Accuracy: 0.787\n",
      "Fold 10: Accuracy: 0.778\n",
      "Average Score: 78.793%(0.563%)\n",
      "Running 10-fold validation on KNN, K = 20\n",
      "Fold 1: Accuracy: 0.788\n",
      "Fold 2: Accuracy: 0.789\n",
      "Fold 3: Accuracy: 0.787\n",
      "Fold 4: Accuracy: 0.805\n",
      "Fold 5: Accuracy: 0.796\n",
      "Fold 6: Accuracy: 0.791\n",
      "Fold 7: Accuracy: 0.793\n",
      "Fold 8: Accuracy: 0.784\n",
      "Fold 9: Accuracy: 0.793\n",
      "Fold 10: Accuracy: 0.779\n",
      "Average Score: 79.052%(0.679%)\n",
      "Running 10-fold validation on Gradient Boosting\n",
      "Fold 1: Accuracy: 0.815\n",
      "Fold 2: Accuracy: 0.81\n",
      "Fold 3: Accuracy: 0.811\n",
      "Fold 4: Accuracy: 0.826\n",
      "Fold 5: Accuracy: 0.823\n",
      "Fold 6: Accuracy: 0.811\n",
      "Fold 7: Accuracy: 0.811\n",
      "Fold 8: Accuracy: 0.806\n",
      "Fold 9: Accuracy: 0.814\n",
      "Fold 10: Accuracy: 0.802\n",
      "Average Score: 81.278%(0.671%)\n"
     ]
    },
    {
     "data": {
      "text/plain": [
       "XGBClassifier(base_score=0.5, colsample_bylevel=1, colsample_bytree=1,\n",
       "       gamma=0, learning_rate=0.1, max_delta_step=0, max_depth=3,\n",
       "       min_child_weight=1, missing=None, n_estimators=100, nthread=-1,\n",
       "       objective='multi:softprob', reg_alpha=0, reg_lambda=1,\n",
       "       scale_pos_weight=1, seed=0, silent=True, subsample=1)"
      ]
     },
     "execution_count": 60,
     "metadata": {},
     "output_type": "execute_result"
    }
   ],
   "source": [
    "\n",
    "### logitic regression model ###\n",
    "#Algorithm: it is supervised classification algorithm, that estimates the probability that y=1 \n",
    "# given input x. for multi-class problems picks a class that max h_of_theta(x)\n",
    "#Pros: provides convenient probability score of observation, efficient implementation\n",
    "#Cons: logistic regression does not consider the interactions among the features, doesnt \n",
    "# perform well when feature space is too large\n",
    "#Why Chosen: The most common algorithm for solving classification problems \n",
    "logistic_reg_model = LogisticRegression()\n",
    "\n",
    "### Decision Tree model ###\n",
    "#Algorithm: supervised, both classification and regression, it partitions samples into mutually\n",
    "# exclusive groups by selecting spliting attributes. It branches out based on the decrease in\n",
    "# entropy and the most information gained, thus, the most important features appear at the top\n",
    "#Pros: works with multiple modeling objectives, easy to interpret, handles missing data, works\n",
    "# well for both large and small datasets, no need to normalize data, handles nonlinearity of\n",
    "# features \n",
    "#Cons: easy to overfit, highly biased to train set, doesn't model interactions between features\n",
    "#Why Chosen: designed to work well with multi-class and descrete intervals and the model is \n",
    "# easy and intuitive to understand\n",
    "dtree_model = tree.DecisionTreeClassifier(criterion = \"entropy\",min_samples_leaf = 500)\n",
    "\n",
    "### Random Forest model ###\n",
    "#Algorithm: supervised, used for both classification and regression, it is a forest of \n",
    "# decision trees that are randomely divided, normally is low bias, high variance \n",
    "#Cons: although better than decision trees, it can still be greedy and overfit data\n",
    "#Pros: doesn't overfit, captures nonlinearities between features and target \n",
    "#Why Chosen: since it addresses the shortcoming of the decision tree as it is a clever extension\n",
    "# decision tree as features are randomly divided, it is less susceptible to muilticolinearity\n",
    "Random_Forest_model = RandomForestClassifier()\n",
    "\n",
    "### KNN model ###\n",
    "#Algorithm: supervised, used for both classification and regression, for classification \n",
    "#problems, depending on the predetermined value of K, the alogirhtm finds the distance \n",
    "# between the new object and the training data. It then selects the K nearest neighbours and \n",
    "# classifies the new object based on the majority neighbour votes \n",
    "#Pros: easy to understand, \n",
    "#Cons: K value has to be pre-set, low K results in overfit, while high K results in underfit\n",
    "# error also tends to be large when dataset is small\n",
    "#Why Chosen: easy to understand and tune, it takes voting of neighbours so works well with \n",
    "# picking one out of 3 class \n",
    "knn_model = KNeighborsClassifier(n_neighbors=20)\n",
    "\n",
    "### Gradient boosting model ###\n",
    "#Algorithm: works based on the principal of ensemble since it combines a set of weak learners \n",
    "# to improve prediction accuracy. \n",
    "#Pros: higher accuracy as it minimizes an error, modest memory \n",
    "#Cons: computationally expensive, difficult to interprate, \n",
    "#not good for higher dimensional sparse features\n",
    "#Why Chosen: boositing algorithms in general play a crucial role in bias/variance tradeoff \n",
    "# as they control both bias and variance, the next step is optimized by a correction measure \n",
    "# calculated in the previous step\n",
    "g_boost = XGBClassifier()\n",
    "\n",
    "# fit models with training data.\n",
    "print('Running 10-fold validation on Logistic Regression')\n",
    "kfold_model_run(logistic_reg_model, X_train, y_train)\n",
    "print('Running 10-fold validation on Decision Tree')\n",
    "dt = kfold_model_run(dtree_model, X_train, y_train)\n",
    "print('Running 10-fold validation on Random Forest')\n",
    "kfold_model_run(Random_Forest_model, X_train, y_train)\n",
    "print('Running 10-fold validation on KNN, K = 20')\n",
    "kfold_model_run(knn_model, X_train, y_train)\n",
    "print('Running 10-fold validation on Gradient Boosting')\n",
    "kfold_model_run(g_boost, X_train, y_train)"
   ]
  },
  {
   "cell_type": "markdown",
   "metadata": {},
   "source": [
    "From above we see that all models perform well across the folds, and their variance is small. Overal, based on the accuracy results we see that gradient boosting performs the best."
   ]
  },
  {
   "cell_type": "markdown",
   "metadata": {},
   "source": [
    "# Model Tuning \n",
    "\n",
    "The goals of this section are:\n",
    "1. Improve the performance of models using the grid search on chosen metrics\n",
    "2. Selecting performance measures, such as accuracy, true positive rate (TPR), false positive rate (FPR), etc, to compare the model performances and explain why you selected the criteria to choose the best model \n",
    "\n",
    "I chose GridSearchCV, a well-known method for tuning the hyperparameters that would result in optimized models. Grid search works by building several models with all the parameter combinations specified, and runs a defult of 3 cross validations to return a set of parameters that had the highest accuracy score on the validation set based on the chosen accuracy scorer. A search consists of:\n",
    "-an estimator (regressor or classifier such as RandomForestClassifier(), or LogisticRegression())\n",
    "-a parameter space\n",
    "-a method for searching or sampling candidates\n",
    "-a cross-validation scheme\n",
    "-a score function, such as accurracy_score()\n",
    "The drawback is that this step takes a very long time to run. accuracy_score fuction of defult library was used to compare the scores between different hyper-parameter. The optimal hyperparameter set is then used to run 10-fold cross validation in order to obtain the average score of optimal parameters as well as confusion matrix and run-time of all the implemented algorithms. The model with highest score is slected, which is Gradient boosting."
   ]
  },
  {
   "cell_type": "code",
   "execution_count": 61,
   "metadata": {
    "collapsed": true
   },
   "outputs": [],
   "source": [
    "### Logistic Regression model hyper-parameter tuning\n",
    "lg = LogisticRegression(random_state=42)\n",
    "# Create hyperparameter search space \n",
    "# Create regularization penalty space\n",
    "penalty = ['l1', 'l2']\n",
    "# Create regularization hyperparameter space\n",
    "C = np.logspace(0, 4, 10)\n",
    "# Create hyperparameter options\n",
    "lg_params = dict(C=C, penalty=penalty)\n",
    "\n",
    "### Decision Tree model hyper-parameter tuning\n",
    "dt = tree.DecisionTreeClassifier()\n",
    "# Choose some parameter combinations to tune\n",
    "dt_params = {\"criterion\": [\"gini\", \"entropy\"],\n",
    "              \"min_samples_split\": [2, 10, 20],\n",
    "              \"max_depth\": [None, 2, 5, 10],\n",
    "              \"min_samples_leaf\": [1, 5, 10, 100,500, 1000],\n",
    "              \"max_leaf_nodes\": [None, 5, 10, 20,25],\n",
    "              }\n",
    "\n",
    "### Random Forest model hyper-parameter tuning\n",
    "rf = RandomForestClassifier()\n",
    "# Choose some parameter combinations to tune\n",
    "rf_params = {'n_estimators': [4, 9, 15], \n",
    "              'max_features': ['log2', 'sqrt','auto'], \n",
    "              'criterion': ['entropy', 'gini'],\n",
    "              'max_depth': [2, 5, 10,15], \n",
    "              'min_samples_split': [2, 3, 5,10],\n",
    "              'min_samples_leaf': [1,5,8]\n",
    "             }\n",
    "\n",
    "### KNN model hyper-parameter tuning\n",
    "knn = KNeighborsClassifier()\n",
    "# Choose some parameter combinations to tune\n",
    "knn_params = {\"n_neighbors\": np.arange(5, 35, 4), \n",
    "              \"metric\": [\"euclidean\", 'minkowski']}\n",
    "\n",
    "### Gradient boost model hyper-parameter tuning\n",
    "gboost = XGBClassifier()\n",
    "# Choose some parameter combinations to tune\n",
    "gboost_params = {'gamma': [0.05, 0.1, 0.3, 0.5,1], \n",
    "              'max_depth': [3, 5, 9], \n",
    "              'subsample': [0.6, 0.8, 0.9, 1]\n",
    "                }\n",
    "\n",
    "def run_gridsearch(clf, X, y, hyperparameters, cv=5):\n",
    "    \n",
    "    # Use classification accuracy to compare parameter combinations\n",
    "    acc_scorer = make_scorer(accuracy_score)\n",
    "\n",
    "\n",
    "    # Create grid search using k-fold cross validation\n",
    "    grid_search = GridSearchCV(clf, hyperparameters, cv=cv, scoring=acc_scorer)\n",
    "    grid_search = grid_search.fit(X, y)\n",
    "    \n",
    "    print('Best Score is:')\n",
    "    best_score = grid_search.best_score_ \n",
    "    print((best_score*100))\n",
    "    print('Best Model Hyperparameters are:')\n",
    "    print(grid_search.best_params_)\n",
    "    print('Best Model fit is:')\n",
    "    print(grid_search.best_estimator_)\n",
    "    \n",
    "    # Set our classifier to have the best combination of parameters\n",
    "    best_clf = grid_search.best_estimator_\n",
    "     \n",
    "    return best_clf"
   ]
  },
  {
   "cell_type": "code",
   "execution_count": 62,
   "metadata": {},
   "outputs": [
    {
     "name": "stdout",
     "output_type": "stream",
     "text": [
      "Logistic Regression Tuning\n",
      "Best Score is:\n",
      "79.5951117146\n",
      "Best Model Hyperparameters are:\n",
      "{'C': 1.0, 'penalty': 'l2'}\n",
      "Best Model fit is:\n",
      "LogisticRegression(C=1.0, class_weight=None, dual=False, fit_intercept=True,\n",
      "          intercept_scaling=1, max_iter=100, multi_class='ovr', n_jobs=1,\n",
      "          penalty='l2', random_state=42, solver='liblinear', tol=0.0001,\n",
      "          verbose=0, warm_start=False)\n",
      "Decision Tree Tuning\n",
      "Best Score is:\n",
      "80.6567090483\n",
      "Best Model Hyperparameters are:\n",
      "{'criterion': 'entropy', 'max_depth': 5, 'max_leaf_nodes': 25, 'min_samples_leaf': 1, 'min_samples_split': 2}\n",
      "Best Model fit is:\n",
      "DecisionTreeClassifier(class_weight=None, criterion='entropy', max_depth=5,\n",
      "            max_features=None, max_leaf_nodes=25,\n",
      "            min_impurity_decrease=0.0, min_impurity_split=None,\n",
      "            min_samples_leaf=1, min_samples_split=2,\n",
      "            min_weight_fraction_leaf=0.0, presort=False, random_state=None,\n",
      "            splitter='best')\n",
      "Random Forest Tuning\n",
      "Best Score is:\n",
      "81.1010986298\n",
      "Best Model Hyperparameters are:\n",
      "{'criterion': 'gini', 'max_depth': 15, 'max_features': 'auto', 'min_samples_leaf': 8, 'min_samples_split': 5, 'n_estimators': 15}\n",
      "Best Model fit is:\n",
      "RandomForestClassifier(bootstrap=True, class_weight=None, criterion='gini',\n",
      "            max_depth=15, max_features='auto', max_leaf_nodes=None,\n",
      "            min_impurity_decrease=0.0, min_impurity_split=None,\n",
      "            min_samples_leaf=8, min_samples_split=5,\n",
      "            min_weight_fraction_leaf=0.0, n_estimators=15, n_jobs=1,\n",
      "            oob_score=False, random_state=None, verbose=0,\n",
      "            warm_start=False)\n",
      "KNN Tuning\n",
      "Best Score is:\n",
      "79.2782784018\n",
      "Best Model Hyperparameters are:\n",
      "{'metric': 'euclidean', 'n_neighbors': 29}\n",
      "Best Model fit is:\n",
      "KNeighborsClassifier(algorithm='auto', leaf_size=30, metric='euclidean',\n",
      "           metric_params=None, n_jobs=1, n_neighbors=29, p=2,\n",
      "           weights='uniform')\n",
      "Gradient Boosting Tuning\n",
      "Best Score is:\n",
      "81.459079126\n",
      "Best Model Hyperparameters are:\n",
      "{'gamma': 0.05, 'max_depth': 5, 'subsample': 0.9}\n",
      "Best Model fit is:\n",
      "XGBClassifier(base_score=0.5, colsample_bylevel=1, colsample_bytree=1,\n",
      "       gamma=0.05, learning_rate=0.1, max_delta_step=0, max_depth=5,\n",
      "       min_child_weight=1, missing=None, n_estimators=100, nthread=-1,\n",
      "       objective='multi:softprob', reg_alpha=0, reg_lambda=1,\n",
      "       scale_pos_weight=1, seed=0, silent=True, subsample=0.9)\n"
     ]
    }
   ],
   "source": [
    "print('Logistic Regression Tuning')\n",
    "best_lg = run_gridsearch(lg, X_train, y_train, lg_params)\n",
    "print('Decision Tree Tuning')\n",
    "best_dt = run_gridsearch(dt, X_train, y_train, dt_params)\n",
    "print('Random Forest Tuning')\n",
    "best_rf = run_gridsearch(rf, X_train, y_train, rf_params)\n",
    "print('KNN Tuning')\n",
    "best_knn = run_gridsearch(knn, X_train, y_train, knn_params)\n",
    "print('Gradient Boosting Tuning')\n",
    "best_gboost = run_gridsearch(gboost, X_train, y_train, gboost_params)"
   ]
  },
  {
   "cell_type": "code",
   "execution_count": 63,
   "metadata": {
    "collapsed": true
   },
   "outputs": [],
   "source": [
    "# let's evaluate and see which model performs the best after hyperparameter tuning \n",
    "def model_eval(best_clf, X, y, K=5):\n",
    "    # Fit the best model with optimal hyper parameters to the training data. \n",
    "    kfold = KFold(n_splits=K)\n",
    "    kfold.get_n_splits(X)\n",
    "    accuracy = np.zeros(K)\n",
    "    np_idx = 0\n",
    "    best_acc = 0\n",
    "    for train_idx, test_idx in kfold.split(X):\n",
    "        X_train, X_test = X[train_idx], X[test_idx]\n",
    "        y_train, y_test = y.values[train_idx], y.values[test_idx]\n",
    "\n",
    "        best_clf.fit(X_train, y_train)\n",
    "\n",
    "        predictions = best_clf.predict(X_test)\n",
    "\n",
    "        ACC = accuracy_score(y_test, predictions)\n",
    "        accuracy[np_idx] = ACC*100\n",
    "        np_idx += 1\n",
    "\n",
    "          \n",
    "        if ACC > best_acc:\n",
    "            best_acc = ACC\n",
    "            perform_measure = confusion_matrix(y_test, predictions)\n",
    "    print(\"Model {}\".format(best_clf))\n",
    "    print (\"Average Score: {}%({}%)\".format(round(np.mean(accuracy),3),\n",
    "                                            round(np.std(accuracy),3)))\n",
    "    print ('The 3-Class Confussion Matrix is:')\n",
    "    print(perform_measure)\n",
    "    return True "
   ]
  },
  {
   "cell_type": "code",
   "execution_count": 64,
   "metadata": {},
   "outputs": [
    {
     "name": "stdout",
     "output_type": "stream",
     "text": [
      "Logistic Regression\n",
      "Model LogisticRegression(C=1.0, class_weight=None, dual=False, fit_intercept=True,\n",
      "          intercept_scaling=1, max_iter=100, multi_class='ovr', n_jobs=1,\n",
      "          penalty='l2', random_state=42, solver='liblinear', tol=0.0001,\n",
      "          verbose=0, warm_start=False)\n",
      "Average Score: 79.599%(0.428%)\n",
      "The 3-Class Confussion Matrix is:\n",
      "[[3513  159    0]\n",
      " [ 416  390    0]\n",
      " [ 219  164    0]]\n",
      "Time taken to run this model is 1.5341827869415283 sec\n",
      "Decision Tree\n",
      "Model DecisionTreeClassifier(class_weight=None, criterion='entropy', max_depth=5,\n",
      "            max_features=None, max_leaf_nodes=25,\n",
      "            min_impurity_decrease=0.0, min_impurity_split=None,\n",
      "            min_samples_leaf=1, min_samples_split=2,\n",
      "            min_weight_fraction_leaf=0.0, presort=False, random_state=None,\n",
      "            splitter='best')\n",
      "Average Score: 80.648%(0.373%)\n",
      "The 3-Class Confussion Matrix is:\n",
      "[[3558  135    0]\n",
      " [ 407  387    2]\n",
      " [ 164  207    1]]\n",
      "Time taken to run this model is 0.2367100715637207 sec\n",
      "Random Forest\n",
      "Model RandomForestClassifier(bootstrap=True, class_weight=None, criterion='gini',\n",
      "            max_depth=15, max_features='auto', max_leaf_nodes=None,\n",
      "            min_impurity_decrease=0.0, min_impurity_split=None,\n",
      "            min_samples_leaf=8, min_samples_split=5,\n",
      "            min_weight_fraction_leaf=0.0, n_estimators=15, n_jobs=1,\n",
      "            oob_score=False, random_state=None, verbose=0,\n",
      "            warm_start=False)\n",
      "Average Score: 80.945%(0.435%)\n",
      "The 3-Class Confussion Matrix is:\n",
      "[[3550  121    1]\n",
      " [ 389  413    4]\n",
      " [ 189  194    0]]\n",
      "Time taken to run this model is 0.8984918594360352 sec\n",
      "KNN\n",
      "Model KNeighborsClassifier(algorithm='auto', leaf_size=30, metric='euclidean',\n",
      "           metric_params=None, n_jobs=1, n_neighbors=29, p=2,\n",
      "           weights='uniform')\n",
      "Average Score: 79.311%(0.455%)\n",
      "The 3-Class Confussion Matrix is:\n",
      "[[3529  157    7]\n",
      " [ 443  348    5]\n",
      " [ 187  178    7]]\n",
      "Time taken to run this model is 13.643625020980835 sec\n",
      "Gradient Boosting\n",
      "Model XGBClassifier(base_score=0.5, colsample_bylevel=1, colsample_bytree=1,\n",
      "       gamma=0, learning_rate=0.1, max_delta_step=0, max_depth=3,\n",
      "       min_child_weight=1, missing=None, n_estimators=100, nthread=-1,\n",
      "       objective='multi:softprob', reg_alpha=0, reg_lambda=1,\n",
      "       scale_pos_weight=1, seed=0, silent=True, subsample=1)\n",
      "Average Score: 81.303%(0.405%)\n",
      "The 3-Class Confussion Matrix is:\n",
      "[[3558  114    0]\n",
      " [ 379  419    8]\n",
      " [ 187  195    1]]\n",
      "Time taken to run this model is 4.494379043579102 sec\n"
     ]
    }
   ],
   "source": [
    "print('Logistic Regression')\n",
    "start_time = time.time()\n",
    "model_eval(best_lg, X_train, y_train)\n",
    "elapsedtime = time.time() - start_time\n",
    "print('Time taken to run this model is {} sec'.format(elapsedtime))\n",
    "\n",
    "print('Decision Tree')\n",
    "start_time = time.time()\n",
    "model_eval(best_dt, X_train, y_train)\n",
    "elapsedtime = time.time() - start_time\n",
    "print('Time taken to run this model is {} sec'.format(elapsedtime))\n",
    "\n",
    "print('Random Forest')\n",
    "start_time = time.time()\n",
    "model_eval(best_rf, X_train, y_train)\n",
    "elapsedtime = time.time() - start_time\n",
    "print('Time taken to run this model is {} sec'.format(elapsedtime))\n",
    "\n",
    "print('KNN')\n",
    "start_time = time.time()\n",
    "model_eval(best_knn, X_train, y_train)\n",
    "elapsedtime = time.time() - start_time\n",
    "print('Time taken to run this model is {} sec'.format(elapsedtime))\n",
    "\n",
    "print('Gradient Boosting')\n",
    "start_time = time.time()\n",
    "model_eval(g_boost, X_train, y_train)\n",
    "elapsedtime = time.time() - start_time\n",
    "print('Time taken to run this model is {} sec'.format(elapsedtime))\n"
   ]
  },
  {
   "cell_type": "markdown",
   "metadata": {},
   "source": [
    "In terms of accuracy, gradient boosting gives the highest accuracy of 81.3% with the lowest variance of all. It is the second slowest model and takes about 4.5 seconds to run, KNN is the slowest model of all taking about 13 seconds to complete, while decision tree is the fastest model taking less that quarter of second to run. \n",
    "\n",
    "The confusion matrix provides great deal of information on how the model is performing. Below is the guide on how to interprate the matrix:   Algorithm's Prediction\n",
    "                                       Actual [ <50K | 50-100K | >100K]\n",
    "                                       Actual [ <50K | 50-100K | >100K]\n",
    "                                       Actual [ <50K | 50-100K | >100K]\n",
    "In general all models are bad at categorizing >100K, which is understandable as the training data available on this class is much less than <50K class. On the other hand, all performed well in detecting the <50K class.\n",
    "Overal, gradient boosting performed better than other models and moving forward Gradient boosting is chosen to perform the testing as it results in the highest accuracy, reasonable run time, better detection of <50K and 50-100K classes. "
   ]
  },
  {
   "cell_type": "markdown",
   "metadata": {},
   "source": [
    "# Testing\n",
    "\n",
    "The purpose of this section is to make predictions on which income bracket people in the data fall into using the optimal model implemented. \n",
    "Answer the question: how the model performs on the test data vs. the train data?\n",
    "\n",
    "To test if the model is overfitting we compared the training and testing accuracy. we find testing accuracy is comparable to the training accuracy and that model generalizes well. "
   ]
  },
  {
   "cell_type": "code",
   "execution_count": 65,
   "metadata": {},
   "outputs": [
    {
     "name": "stdout",
     "output_type": "stream",
     "text": [
      "Acuracy Score of the Optimal Model is: 79.0%\n",
      "The 3-Class Confussion Matrix is:\n",
      "[[8731  341    5]\n",
      " [1066  894   22]\n",
      " [ 615  455   15]]\n"
     ]
    }
   ],
   "source": [
    "# get the optimal model\n",
    "optimal_model =  best_gboost\n",
    "\n",
    "\n",
    "# scale all the features \n",
    "X_test = scaler.fit_transform(X_test)\n",
    "\n",
    "# train the optimal model on the entire training dataset \n",
    "optimal_model.fit(X_train, y_train)\n",
    "\n",
    "# Predict the testing dataset income bracket class \n",
    "predictions = optimal_model.predict(X_test)\n",
    "ACC = accuracy_score(y_test, predictions)\n",
    "perform_measure = confusion_matrix(y_test, predictions)\n",
    "\n",
    "print(\"Acuracy Score of the Optimal Model is: {}%\".format(round(ACC*100),1))\n",
    "print ('The 3-Class Confussion Matrix is:')\n",
    "print(perform_measure)"
   ]
  },
  {
   "cell_type": "markdown",
   "metadata": {},
   "source": [
    "The score is very close to the 81% of the training data. We see that the model generalizes well as the accuracy doesn't drop a lot from the training to testing set. In addition, we see the model performing much better in the case of <50K as there are more samples to learn from, and progresively gets worse at predicting the upper income brackets. \n",
    "\n",
    "-The End :D"
   ]
  }
 ],
 "metadata": {
  "kernelspec": {
   "display_name": "Python 3",
   "language": "python",
   "name": "python3"
  },
  "language_info": {
   "codemirror_mode": {
    "name": "ipython",
    "version": 3
   },
   "file_extension": ".py",
   "mimetype": "text/x-python",
   "name": "python",
   "nbconvert_exporter": "python",
   "pygments_lexer": "ipython3",
   "version": "3.6.2"
  }
 },
 "nbformat": 4,
 "nbformat_minor": 2
}
